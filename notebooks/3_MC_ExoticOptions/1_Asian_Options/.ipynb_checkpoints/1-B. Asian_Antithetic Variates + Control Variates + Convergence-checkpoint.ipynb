{
 "cells": [
  {
   "cell_type": "markdown",
   "id": "c7d018a0-f14f-4bb4-a02b-c4217e295f23",
   "metadata": {},
   "source": [
    "## Antithetic + Control Variates for Asian Option\n",
    "\n",
    "In this notebook, we combine two powerful variance reduction techniques, Antithetic Variates and Control Variates, to estimate the price of an Asian option more efficiently.\n",
    "\n",
    "- Antithetic Variates reduce variance by using negatively correlated paths.  \n",
    "- Control Variates reduce variance by correcting with a known expected value (European call price).\n",
    "\n",
    "Combining them helps produce a more accurate and stable option price estimate."
   ]
  },
  {
   "cell_type": "code",
   "execution_count": 1,
   "id": "e43a91df-0ee1-41df-84ea-4018f8140f72",
   "metadata": {},
   "outputs": [],
   "source": [
    "import numpy as np\n",
    "import matplotlib.pyplot as plt\n",
    "from scipy.stats import norm\n",
    "np.random.seed(42)\n",
    "\n",
    "# Parameters\n",
    "S0 = 100      # Initial stock price\n",
    "K = 100       # Strike price\n",
    "r = 0.05      # Risk-free rate\n",
    "T = 1.0       # Time to maturity\n",
    "sigma = 0.2   # Volatility\n",
    "M = 50        # Time steps\n",
    "N = 10000     # Number of simulations"
   ]
  },
  {
   "cell_type": "code",
   "execution_count": 2,
   "id": "e351f8ad-3b1d-4deb-80f4-1d4dc0e0b806",
   "metadata": {},
   "outputs": [],
   "source": [
    "# Simulating GBM paths for Antithetic Variates for Asian Options\n",
    "\n",
    "def asian_antithetic_paths(S0, K, r, T, sigma, M = 50, N = 10000):\n",
    "    dt = T / M\n",
    "    S_paths = np.zeros((2*N, M+1))\n",
    "    S_paths[:, 0] = S0\n",
    "\n",
    "    for t in range(1, M+1):\n",
    "        Z = np.random.randn(N)\n",
    "        Z_anti = -Z\n",
    "\n",
    "        # Normal Paths\n",
    "        S_paths[:N, t] = S_paths[:N, t-1] * np.exp((r - 0.5 * sigma**2) * dt + (sigma * np.sqrt(dt) * Z))\n",
    "        \n",
    "        # Antithetic Paths\n",
    "        S_paths[N:, t] = S_paths[N:, t-1] * np.exp((r - 0.5 * sigma**2) * dt + (sigma * np.sqrt(dt) * Z_anti))\n",
    "\n",
    "    return S_paths"
   ]
  },
  {
   "cell_type": "code",
   "execution_count": 3,
   "id": "291a2ece-6ffc-43d4-b1f9-4f3f5fd53f84",
   "metadata": {},
   "outputs": [],
   "source": [
    "S_paths = asian_antithetic_paths(S0=100, K=100, r=0.05, T=1, sigma=0.2, M = 50, N = 10000)"
   ]
  },
  {
   "cell_type": "markdown",
   "id": "ee8b12e0-cae1-47a0-91ae-c9023246a8a0",
   "metadata": {},
   "source": [
    "### Compute Payoffs\n",
    "\n",
    "We now compute the payoffs for both Asian and European call options:\n",
    "\n",
    "- **Asian Option Payoff**: Based on the average price over the path.\n",
    "- **European Option Payoff**: Based on the terminal price (S_T), to be used as a control variate.\n",
    "- Both are discounted to present value using e^{-rT}."
   ]
  },
  {
   "cell_type": "code",
   "execution_count": 4,
   "id": "77049acc-f9b3-4e0e-ae9c-e40a964823ca",
   "metadata": {},
   "outputs": [],
   "source": [
    "def compute_asian_and_european_payoffs(S_paths, K, r, T):\n",
    "\n",
    "    average_price = np.mean(S_paths[:, 1:], axis = 1)\n",
    "    S_T = S_paths[:, -1]\n",
    "\n",
    "    # Asian Call Discounted Payoffs\n",
    "    asian_payoff = np.exp(-r * T) * np.maximum(average_price - K, 0)\n",
    "\n",
    "    # European Call Discounted Payoffs\n",
    "    euro_payoff = np.exp(-r * T) * np.maximum(S_T - K, 0)\n",
    "\n",
    "    return asian_payoff, euro_payoff"
   ]
  },
  {
   "cell_type": "code",
   "execution_count": 5,
   "id": "0c67d0ce-9cf5-4273-89c8-e9c45d5311b7",
   "metadata": {},
   "outputs": [],
   "source": [
    "asian_payoff, euro_payoff = compute_asian_and_european_payoffs(S_paths, 100, 0.05, 1)"
   ]
  },
  {
   "cell_type": "markdown",
   "id": "f547c660-434e-4939-a172-c58487b2ce53",
   "metadata": {},
   "source": [
    "### Combine Antithetic and Control Variates\n",
    "\n",
    "To improve pricing accuracy further, we apply **control variates** on top of the antithetic paths.\n",
    "\n",
    "- The European call payoff is used as the control variate because its expected value is known (Black-Scholes).\n",
    "- We calculate the covariance between Asian and European payoffs and apply the control variate adjustment:\n",
    "  \n",
    "Adjusted Payoff = Asian Payoff + c (BS European Price - European Payoff)\n",
    "\n",
    "This reduces variance and improves estimate quality."
   ]
  },
  {
   "cell_type": "code",
   "execution_count": 6,
   "id": "fcb0a0dd-7d04-479a-ac8d-83040b030820",
   "metadata": {},
   "outputs": [],
   "source": [
    "def price_asian_with_antithetic_control(S_path, S0, K, r, T, sigma):\n",
    "\n",
    "    # European Black Scholes Price (Estimated Known price)\n",
    "    d1 = (np.log(S0/K) + (r + 0.5 * sigma**2) * T) / sigma * np.sqrt(T)\n",
    "    d2 = d1 - sigma * np.sqrt(T)\n",
    "    bs_price = S0 * norm.cdf(d1) - K * np.exp(-r * T) * norm.cdf(d2)\n",
    "\n",
    "    # Compute Payoffs\n",
    "    asian_payoff, euro_payoff = compute_asian_and_european_payoffs(S_paths, K, r, T)\n",
    "\n",
    "    # Compute Optimal Coeficient c\n",
    "    c = np.cov(asian_payoff, euro_payoff)[0,1] /np.var(euro_payoff)\n",
    "\n",
    "    # Apply Control Variate Adjustment\n",
    "    adjusted_price = asian_payoff + c * (bs_price - euro_payoff)\n",
    "\n",
    "    # Return estimated price and diagnostics\n",
    "    asian_price = np.mean(adjusted_price)\n",
    "    std_plain = np.std(asian_payoff)\n",
    "    std_control = np.std(adjusted_price)\n",
    "\n",
    "    return asian_price, std_plain, std_control\n",
    "\n",
    "    "
   ]
  },
  {
   "cell_type": "code",
   "execution_count": 7,
   "id": "fa62e824-8127-4d4e-852a-20f9c05c5f46",
   "metadata": {},
   "outputs": [
    {
     "name": "stdout",
     "output_type": "stream",
     "text": [
      "Asian Option Price (CV + AV): 5.8326\n",
      "Standard Deviation (Plain) : 8.0843\n",
      "Standard Deviation (Control): 4.3325\n"
     ]
    }
   ],
   "source": [
    "S_paths = asian_antithetic_paths(S0=100, K=100, r=0.05, T=1, sigma=0.2, M=50, N=5000)\n",
    "asian_price, std_plain, std_control = price_asian_with_antithetic_control(S_paths, S0=100, K=100, r=0.05, T=1, sigma=0.2)\n",
    "\n",
    "print(f\"Asian Option Price (CV + AV): {asian_price:.4f}\")\n",
    "print(f\"Standard Deviation (Plain) : {std_plain:.4f}\")\n",
    "print(f\"Standard Deviation (Control): {std_control:.4f}\")"
   ]
  },
  {
   "cell_type": "markdown",
   "id": "c58b12b9-4542-4a10-ab14-2d766b992e00",
   "metadata": {},
   "source": [
    "## Final Summary: Variance Reduction for Asian Options\n",
    "\n",
    "In this section, we priced a path-dependent **Asian Call Option** using **Monte Carlo simulation** and applied two advanced **variance reduction techniques**:\n",
    "\n",
    "### 1. Antithetic Variates:\n",
    "- Generated antithetic paths by simulating both \\( Z \\) and \\( -Z \\).\n",
    "- Reduced randomness and improved estimate stability.\n",
    "\n",
    "### 2. Control Variates:\n",
    "- Used European Call option as a control, since its price is known via Black-Scholes.\n",
    "- Applied the adjustment:\n",
    "  \n",
    "Adjusted Payoff = Asian Payoff + c(BS Price - European Payoff)\n",
    "\n",
    "### Result:\n",
    "- **Asian Option Price**: 5.8326\n",
    "- **Standard Deviation (Plain)**: 8.0843  \n",
    "- **Standard Deviation (After Control Variate)**: 4.3325\n",
    "\n",
    "> ✅ We successfully reduced variance by combining both techniques, making the simulation more efficient and reliable."
   ]
  },
  {
   "cell_type": "code",
   "execution_count": 8,
   "id": "cba226e3-ab67-4288-91d8-23116fa91380",
   "metadata": {},
   "outputs": [
    {
     "data": {
      "image/png": "[encoded data removed]",
      "text/plain": [
       "<Figure size 1000x600 with 1 Axes>"
      ]
     },
     "metadata": {},
     "output_type": "display_data"
    }
   ],
   "source": [
    "Ns = [1000, 2000, 5000, 10000, 20000]\n",
    "plain_stds = []\n",
    "control_stds = []\n",
    "\n",
    "for N in Ns:\n",
    "    S_paths = asian_antithetic_paths(S0=100, K=100, r=0.05, T=1, sigma=0.2, M=50, N=N)\n",
    "    _, std_plain, std_control = price_asian_with_antithetic_control(S_paths, 100, 100, 0.05, 1, 0.2)\n",
    "    plain_stds.append(std_plain)\n",
    "    control_stds.append(std_control)\n",
    "\n",
    "plt.figure(figsize=(10,6))\n",
    "plt.plot(Ns, plain_stds, label=\"Standard Deviation (Plain)\", marker='o')\n",
    "plt.plot(Ns, control_stds, label=\"Standard Deviation (Control + AV)\", marker='o')\n",
    "plt.xlabel(\"Number of Simulations (N)\")\n",
    "plt.ylabel(\"Standard Deviation\")\n",
    "plt.title(\"Convergence of Standard Deviation with N\")\n",
    "plt.legend()\n",
    "plt.grid(True)\n",
    "plt.show()"
   ]
  },
  {
   "cell_type": "code",
   "execution_count": null,
   "id": "b18eb9ed-3ef1-490e-a5ad-add1a220b051",
   "metadata": {},
   "outputs": [],
   "source": []
  }
 ],
 "metadata": {
  "kernelspec": {
   "display_name": "Python 3 (ipykernel)",
   "language": "python",
   "name": "python3"
  },
  "language_info": {
   "codemirror_mode": {
    "name": "ipython",
    "version": 3
   },
   "file_extension": ".py",
   "mimetype": "text/x-python",
   "name": "python",
   "nbconvert_exporter": "python",
   "pygments_lexer": "ipython3",
   "version": "3.10.18"
  }
 },
 "nbformat": 4,
 "nbformat_minor": 5
}
