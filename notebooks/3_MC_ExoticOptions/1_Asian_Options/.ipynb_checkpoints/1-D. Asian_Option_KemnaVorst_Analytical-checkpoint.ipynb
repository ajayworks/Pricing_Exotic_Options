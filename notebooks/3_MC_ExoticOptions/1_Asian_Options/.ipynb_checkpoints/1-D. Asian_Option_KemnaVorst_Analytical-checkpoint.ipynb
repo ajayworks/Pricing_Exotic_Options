{
 "cells": [
  {
   "cell_type": "markdown",
   "id": "23be9d13-0783-47cc-aba1-86df51a6a631",
   "metadata": {},
   "source": [
    "# Asian Option — Kemna & Vorst Analytical Approximation\n",
    "\n",
    "This notebook implements the closed-form formula for **geometric average price** Asian options derived by **Kemna & Vorst (1990)**. This is applicable for:\n",
    "\n",
    "- **European-style Asian options**\n",
    "- **Geometric averaging**\n",
    "- Assumes **constant volatility**, **interest rate**, and **no dividends**\n",
    "\n",
    "We will validate this formula against Monte Carlo simulations for geometric average payoff."
   ]
  },
  {
   "cell_type": "code",
   "execution_count": 3,
   "id": "88f2dfac-563a-4562-bcd5-fcb5ff6696b3",
   "metadata": {},
   "outputs": [],
   "source": [
    "import numpy as np\n",
    "from scipy.stats import norm\n",
    "\n",
    "def kemna_vorst_geo_asian_option_price(S0, K, T, r, sigma, n=100, is_call=True):\n",
    "    \"\"\"\n",
    "    Geometric Asian Option Pricing (Kemna & Vorst closed-form solution)\n",
    "    \"\"\"\n",
    "    sigma_hat = sigma * np.sqrt((2 * n + 1) / (6 * (n + 1)))\n",
    "    r_hat = 0.5 * (r - 0.5 * sigma ** 2) + 0.5 * sigma_hat ** 2\n",
    "    \n",
    "    d1 = (np.log(S0 / K) + (r_hat + 0.5 * sigma_hat ** 2) * T) / (sigma_hat * np.sqrt(T))\n",
    "    d2 = d1 - sigma_hat * np.sqrt(T)\n",
    "\n",
    "    df = np.exp(-r * T)\n",
    "    if is_call:\n",
    "        price = df * (S0 * np.exp(r_hat * T) * norm.cdf(d1) - K * norm.cdf(d2))\n",
    "    else:\n",
    "        price = df * (K * norm.cdf(-d2) - S0 * np.exp(r_hat * T) * norm.cdf(-d1))\n",
    "\n",
    "    return price"
   ]
  },
  {
   "cell_type": "code",
   "execution_count": 4,
   "id": "3432c827-c33f-43cd-a085-e580e7f5e23e",
   "metadata": {
    "scrolled": true
   },
   "outputs": [
    {
     "name": "stdout",
     "output_type": "stream",
     "text": [
      "Geometric Asian Call Price (KV formula): 5.5217\n",
      "Geometric Asian Put Price (KV formula):  3.4445\n"
     ]
    }
   ],
   "source": [
    "S0 = 100\n",
    "K = 100\n",
    "T = 1\n",
    "r = 0.05\n",
    "sigma = 0.2\n",
    "n = 50  # number of observation dates\n",
    "\n",
    "call_price = kemna_vorst_geo_asian_option_price(S0, K, T, r, sigma, n=n, is_call=True)\n",
    "put_price = kemna_vorst_geo_asian_option_price(S0, K, T, r, sigma, n=n, is_call=False)\n",
    "\n",
    "print(f\"Geometric Asian Call Price (KV formula): {call_price:.4f}\")\n",
    "print(f\"Geometric Asian Put Price (KV formula):  {put_price:.4f}\")"
   ]
  },
  {
   "cell_type": "markdown",
   "id": "3b88016b-d9b1-4ad2-97b4-c019d73e88e3",
   "metadata": {},
   "source": [
    "## Summary\n",
    "\n",
    "The Kemna & Vorst formula provides an efficient closed-form solution for pricing **European-style geometric average Asian options**.\n",
    "\n",
    "-  Much faster than MC\n",
    "-  Only applicable to **geometric** averaging (not arithmetic)\n",
    "-  Useful for benchmarking MC engine\n"
   ]
  },
  {
   "cell_type": "code",
   "execution_count": null,
   "id": "4781ba3e-cc71-4b93-bcc2-c51c63a8777c",
   "metadata": {},
   "outputs": [],
   "source": []
  }
 ],
 "metadata": {
  "kernelspec": {
   "display_name": "Python 3 (ipykernel)",
   "language": "python",
   "name": "python3"
  },
  "language_info": {
   "codemirror_mode": {
    "name": "ipython",
    "version": 3
   },
   "file_extension": ".py",
   "mimetype": "text/x-python",
   "name": "python",
   "nbconvert_exporter": "python",
   "pygments_lexer": "ipython3",
   "version": "3.10.18"
  }
 },
 "nbformat": 4,
 "nbformat_minor": 5
}
