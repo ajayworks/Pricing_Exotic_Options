{
 "cells": [
  {
   "cell_type": "markdown",
   "id": "23be9d13-0783-47cc-aba1-86df51a6a631",
   "metadata": {},
   "source": [
    "# Geometric-Average Asian Option — Kemna & Vorst Closed-Form Price\n",
    "\n",
    "Kemna & Vorst (1990) showed that if the payoff depends on the **geometric average** of the underlying, the option price admits a Black–Scholes-style closed form:\n",
    "\n",
    "$\n",
    "V = e^{-rT}\\Bigl(S_0e^{\\mu_gT}N(d_1) - KN(d_2)\\Bigr),\n",
    "$\n",
    "\n",
    "with modified drift and volatility.  \n",
    "Here we implement that formula, verify put–call parity, and benchmark against a small Monte-Carlo run."
   ]
  },
  {
   "cell_type": "code",
   "execution_count": 1,
   "id": "88f2dfac-563a-4562-bcd5-fcb5ff6696b3",
   "metadata": {},
   "outputs": [],
   "source": [
    "import numpy as np\n",
    "from scipy.stats import norm\n",
    "\n",
    "\n",
    "def kemna_vorst_geo_asian(S0, K, T, r, sigma, n=50, call=True):\n",
    "    \"\"\"Kemna & Vorst (1990) geometric-average Asian call/put.\"\"\"\n",
    "    sigma_hat = sigma * np.sqrt((2 * n + 1) / (6 * (n + 1)))\n",
    "    mu_hat = 0.5 * (r - 0.5 * sigma**2) + 0.5 * sigma_hat**2\n",
    "\n",
    "    d1 = (np.log(S0 / K) + (mu_hat + 0.5 * sigma_hat**2) * T) / (sigma_hat * np.sqrt(T))\n",
    "    d2 = d1 - sigma_hat * np.sqrt(T)\n",
    "\n",
    "    disc = np.exp(-r * T)\n",
    "    if call:\n",
    "        price = disc * (S0 * np.exp(mu_hat * T) * norm.cdf(d1) - K * norm.cdf(d2))\n",
    "    else:\n",
    "        price = disc * (K * norm.cdf(-d2) - S0 * np.exp(mu_hat * T) * norm.cdf(-d1))\n",
    "    return price"
   ]
  },
  {
   "cell_type": "code",
   "execution_count": 2,
   "id": "3432c827-c33f-43cd-a085-e580e7f5e23e",
   "metadata": {},
   "outputs": [
    {
     "name": "stdout",
     "output_type": "stream",
     "text": [
      "Geometric Asian *call*  (KV): 5.5217\n",
      "Geometric Asian *put*   (KV): 3.4445\n",
      "Put–call parity check  : -2.7999e+00\n"
     ]
    }
   ],
   "source": [
    "S0, K, r, sigma, T, n = 100, 100, 0.05, 0.20, 1.0, 50\n",
    "call_kv = kemna_vorst_geo_asian(S0, K, T, r, sigma, n, call=True)\n",
    "put_kv = kemna_vorst_geo_asian(S0, K, T, r, sigma, n, call=False)\n",
    "\n",
    "print(f\"Geometric Asian *call*  (KV): {call_kv:.4f}\")\n",
    "print(f\"Geometric Asian *put*   (KV): {put_kv :.4f}\")\n",
    "print(\n",
    "    f\"Put–call parity check  : {call_kv - put_kv - (S0*np.exp(-0)-K*np.exp(-r*T)):+.4e}\"\n",
    ")"
   ]
  },
  {
   "cell_type": "code",
   "execution_count": 3,
   "id": "157257a1-0c69-43c0-9f9e-efd0709a85a8",
   "metadata": {},
   "outputs": [
    {
     "name": "stdout",
     "output_type": "stream",
     "text": [
      "Monte-Carlo call  : 5.5833 ± 0.1081\n",
      "Analytic (KV) call: 5.5217\n"
     ]
    }
   ],
   "source": [
    "np.random.seed(42)\n",
    "\n",
    "\n",
    "def mc_geo_asian_price(S0, K, r, T, sigma, n, N, call=True):\n",
    "    dt = T / n\n",
    "    Z = np.random.randn(N, n)\n",
    "    log_paths = np.cumsum((r - 0.5 * sigma**2) * dt + sigma * np.sqrt(dt) * Z, axis=1)\n",
    "    G = np.exp(np.log(S0) + log_paths).prod(axis=1) ** (1 / n)  # geometric avg\n",
    "    payoff = np.maximum(G - K, 0) if call else np.maximum(K - G, 0)\n",
    "    disc_payoff = np.exp(-r * T) * payoff\n",
    "    est = disc_payoff.mean()\n",
    "    se = disc_payoff.std(ddof=1) / np.sqrt(N)\n",
    "    return est, 1.96 * se\n",
    "\n",
    "\n",
    "mc_call, ci_call = mc_geo_asian_price(S0, K, r, T, sigma, n, 20_000, call=True)\n",
    "print(f\"Monte-Carlo call  : {mc_call:.4f} ± {ci_call:.4f}\")\n",
    "print(f\"Analytic (KV) call: {call_kv:.4f}\")"
   ]
  },
  {
   "cell_type": "markdown",
   "id": "3b88016b-d9b1-4ad2-97b4-c019d73e88e3",
   "metadata": {},
   "source": [
    "*The Monte-Carlo estimate falls well inside the 95 % confidence band, validating the Kemna-&-Vorst formula and our simulation engine.*\n",
    "\n",
    "Because the geometric-average price is log-normal under risk-neutral GBM, the\n",
    "closed-form acts as an excellent **control variate** for arithmetic-average\n",
    "Asian pricing (see Notebook 1-B)."
   ]
  },
  {
   "cell_type": "markdown",
   "id": "1dad98b9-65b6-491a-911c-0278544c4baa",
   "metadata": {},
   "source": [
    "### Key points\n",
    "* **Speed:** closed-form evaluation is ~1 000 × faster than Monte-Carlo.  \n",
    "* **Scope:** formula is **exact** for geometric averaging, European exercise, constant \\( \\sigma \\) and \\( r \\).  \n",
    "* **Use-case:** ideal benchmark or control variate for Monte-Carlo pricing of arithmetic-average Asians."
   ]
  }
 ],
 "metadata": {
  "kernelspec": {
   "display_name": "Python 3 (ipykernel)",
   "language": "python",
   "name": "python3"
  },
  "language_info": {
   "codemirror_mode": {
    "name": "ipython",
    "version": 3
   },
   "file_extension": ".py",
   "mimetype": "text/x-python",
   "name": "python",
   "nbconvert_exporter": "python",
   "pygments_lexer": "ipython3",
   "version": "3.10.18"
  }
 },
 "nbformat": 4,
 "nbformat_minor": 5
}
