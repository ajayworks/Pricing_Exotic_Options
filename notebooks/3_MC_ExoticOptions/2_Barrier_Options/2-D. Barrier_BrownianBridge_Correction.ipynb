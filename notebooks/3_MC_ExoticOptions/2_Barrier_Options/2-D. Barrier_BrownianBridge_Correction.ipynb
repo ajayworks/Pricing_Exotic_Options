{
 "cells": [
  {
   "cell_type": "markdown",
   "id": "be449bbc-282f-416c-8212-486ba20c2b23",
   "metadata": {},
   "source": [
    "# Brownian-Bridge Barrier Crossing Correction\n",
    "\n",
    "In Monte Carlo simulations of barrier options, path discretization can miss barrier crossings between time steps. This leads to **upward-biased prices** for knock-out options and **downward-biased prices** for knock-in options.\n",
    "\n",
    "To address this, we implement the **Brownian Bridge Correction**, a method that estimates the probability of hitting the barrier *between* discrete simulation steps.\n",
    "\n",
    "#### Down-and-Out Call – Bias vs Time-Step Error"
   ]
  },
  {
   "cell_type": "markdown",
   "id": "c00402c7-3010-4270-bdac-ce5813395a46",
   "metadata": {},
   "source": [
    "| Symbol | Meaning | Value |\n",
    "|--------|---------|-------|\n",
    "| \\(S_0\\) | Spot price            | **100** |\n",
    "| \\(K\\)   | Strike               | 100 |\n",
    "| \\(B\\)   | Down barrier         | 90 |\n",
    "| \\(r\\)   | Risk-free rate       | 5 % |\n",
    "| \\(\\sigma\\) | Volatility       | 20 % |\n",
    "| \\(T\\)   | Maturity             | 1 yr |\n",
    "| \\(N\\)   | Paths (varies)       | — |\n",
    "| \\(M\\)   | Time steps (varies)  | — |"
   ]
  },
  {
   "cell_type": "code",
   "execution_count": 1,
   "id": "45d2edb1-1c63-4d58-b23c-df6d91b87529",
   "metadata": {},
   "outputs": [],
   "source": [
    "import numpy as np\n",
    "import matplotlib.pyplot as plt\n",
    "from scipy.stats import norm\n",
    "\n",
    "S0, K, B, r, sigma, T = 100, 100, 90, 0.05, 0.20, 1.0\n",
    "\n",
    "np.random.seed(42)\n",
    "disc = np.exp(-r * T)"
   ]
  },
  {
   "cell_type": "code",
   "execution_count": 2,
   "id": "3962017c-7006-4f94-bd3b-f181a1674233",
   "metadata": {},
   "outputs": [],
   "source": [
    "# GBM path generator\n",
    "def simulate_paths(S0, r, sigma, T, M, N):\n",
    "    dt = T / M\n",
    "    Z = np.random.randn(N, M)\n",
    "    log_inc = (r - 0.5 * sigma**2) * dt + sigma * np.sqrt(dt) * Z\n",
    "    log_paths = np.cumsum(log_inc, axis=1)\n",
    "    return S0 * np.exp(log_paths), Z"
   ]
  },
  {
   "cell_type": "code",
   "execution_count": 3,
   "id": "ecbd2ca7-a32c-4b62-bf03-fd281066529e",
   "metadata": {},
   "outputs": [],
   "source": [
    "# Plain MC payoff\n",
    "def payoff_plain(paths):\n",
    "    knocked = (paths <= B).any(axis=1)\n",
    "    ST = paths[:, -1]\n",
    "    return np.where(knocked, 0, np.maximum(ST - K, 0))"
   ]
  },
  {
   "cell_type": "markdown",
   "id": "072f19c5-9494-4c24-bb23-bc4f145583b1",
   "metadata": {},
   "source": [
    "### What’s a Brownian Bridge?  \n",
    "\n",
    "A **Brownian bridge** is a Brownian motion that is *pinned* at two endpoints.  \n",
    "Given the asset price at $(t_i)$ and $(t_{i+1})$, the intermediate\n",
    "trajectory is a Brownian bridge.  \n",
    "For a down-and-out barrier at \\(B\\):\n",
    "\n",
    "$\n",
    "\\Pr\\!\\bigl(\\min_{t\\in(t_i,t_{i+1})} S_t > B \\,\\big|\\,S_{t_i},S_{t_{i+1}}\\bigr)\n",
    "      = 1 - \\exp\\!\\Bigl(-\\frac{2\\log(S_{t_i}/B)\\log(S_{t_{i+1}}/B)}\n",
    "                               {\\sigma^2\\Delta t}\\Bigr),\n",
    "$\n",
    "\n",
    "so we can correct a discrete path by multiplying each time-step by this\n",
    "“no-crossing” probability.  \n",
    "If at any step the bridge crosses the barrier, the option knocks out—even if the coarse grid never touched \\(B\\).  \n",
    "This eliminates the **downward bias** of plain Monte-Carlo without adding extra time steps."
   ]
  },
  {
   "cell_type": "code",
   "execution_count": 4,
   "id": "8e4c3eef-83aa-4cb8-ad35-4510762e585a",
   "metadata": {},
   "outputs": [],
   "source": [
    "# Brownian-Bridge crossing probability\n",
    "def bb_not_cross(S_prev, S_next, B, sigma, dt):\n",
    "    \"\"\"Return P(min_{t∈(0,dt)} S_t > B | endpoints).\"\"\"\n",
    "    a = np.log(S_prev / B)\n",
    "    b = np.log(S_next / B)\n",
    "    var = sigma**2 * dt\n",
    "    prob = 1 - np.exp(-2 * a * b / var)\n",
    "    prob[b <= 0] = 0.0  # already below barrier at right end\n",
    "    prob[a <= 0] = 0.0  # already below at left end\n",
    "    return prob"
   ]
  },
  {
   "cell_type": "code",
   "execution_count": 5,
   "id": "0e35c923-111b-4304-8e2e-98177c142c5a",
   "metadata": {},
   "outputs": [],
   "source": [
    "# Brownian-Bridge corrected payoff\n",
    "def payoff_bb(paths):\n",
    "    N, M = paths.shape\n",
    "    dt = T / M\n",
    "    survives = np.ones(N, dtype=bool)\n",
    "    S_prev = np.full(N, S0)\n",
    "    for j in range(M):\n",
    "        S_next = paths[:, j]\n",
    "        p_no_hit = bb_not_cross(S_prev, S_next, B, sigma, dt)\n",
    "        survives &= np.random.rand(N) < p_no_hit\n",
    "        S_prev = S_next\n",
    "    ST = paths[:, -1]\n",
    "    return np.where(survives, np.maximum(ST - K, 0), 0.0)"
   ]
  },
  {
   "cell_type": "code",
   "execution_count": 6,
   "id": "30b917b2-3b19-43f2-8f48-a9c2d9ecf327",
   "metadata": {},
   "outputs": [],
   "source": [
    "def mc_price(payoff_fn, M, N=40_000):\n",
    "    paths, _ = simulate_paths(S0, r, sigma, T, M, N)\n",
    "    pay = disc * payoff_fn(paths)\n",
    "    m = pay.mean()\n",
    "    ci = 1.96 * pay.std(ddof=1) / np.sqrt(N)\n",
    "    return m, ci"
   ]
  },
  {
   "cell_type": "code",
   "execution_count": 7,
   "id": "e6c1982a-9a5f-41af-b683-df3aca25e21c",
   "metadata": {},
   "outputs": [
    {
     "name": "stdout",
     "output_type": "stream",
     "text": [
      "Reiner–Rubinstein DO call: 7.7731\n"
     ]
    }
   ],
   "source": [
    "# Reiner–Rubinstein analytic DO call\n",
    "def rr_down_out_call(S0, K, B, r, T, sigma):\n",
    "    lam = (r + 0.5 * sigma**2) / sigma**2\n",
    "    x1 = np.log(S0 / B) / (sigma * np.sqrt(T)) + lam * sigma * np.sqrt(T)\n",
    "    y1 = np.log(B**2 / (S0 * K)) / (sigma * np.sqrt(T)) + lam * sigma * np.sqrt(T)\n",
    "    x2 = x1 - sigma * np.sqrt(T)\n",
    "    y2 = y1 - sigma * np.sqrt(T)\n",
    "    A = S0 * norm.cdf(x1) - K * np.exp(-r * T) * norm.cdf(x2)\n",
    "    B_ = S0 * (B / S0) ** (2 * lam) * norm.cdf(y1) - K * np.exp(-r * T) * (B / S0) ** (\n",
    "        2 * lam - 2\n",
    "    ) * norm.cdf(y2)\n",
    "    return A - B_\n",
    "\n",
    "\n",
    "true_price = rr_down_out_call(S0, K, B, r, T, sigma)\n",
    "print(f\"Reiner–Rubinstein DO call: {true_price:.4f}\")"
   ]
  },
  {
   "cell_type": "code",
   "execution_count": 8,
   "id": "03c49008-cb77-4125-9b1f-95afe6bb7553",
   "metadata": {},
   "outputs": [
    {
     "name": "stdout",
     "output_type": "stream",
     "text": [
      "Plain MC (miss hits) : 8.8337 ± 0.1429\n",
      "BB-corrected MC      : 8.6561 ± 0.1433\n"
     ]
    }
   ],
   "source": [
    "# Single-run comparison\n",
    "plain_p, plain_ci = mc_price(payoff_plain, 252)\n",
    "bb_p, bb_ci = mc_price(payoff_bb, 252)\n",
    "\n",
    "print(f\"Plain MC (miss hits) : {plain_p:.4f} ± {plain_ci:.4f}\")\n",
    "print(f\"BB-corrected MC      : {bb_p   :.4f} ± {bb_ci  :.4f}\")"
   ]
  },
  {
   "cell_type": "markdown",
   "id": "436ba610-44c3-4725-99d9-cbe2e605edeb",
   "metadata": {},
   "source": [
    "## Bias versus time-step size"
   ]
  },
  {
   "cell_type": "code",
   "execution_count": 9,
   "id": "d1604f99-6b3b-4f06-a321-fbacedf3fa77",
   "metadata": {},
   "outputs": [
    {
     "data": {
      "image/png": "[encoded data removed]",
      "text/plain": [
       "<Figure size 700x400 with 1 Axes>"
      ]
     },
     "metadata": {},
     "output_type": "display_data"
    }
   ],
   "source": [
    "# Bias curves\n",
    "M_grid = np.array([12, 52, 104, 252, 504])\n",
    "plain_est, bb_est = [], []\n",
    "for M_ in M_grid:\n",
    "    plain_est.append(mc_price(payoff_plain, M_)[0])\n",
    "    bb_est.append(mc_price(payoff_bb, M_)[0])\n",
    "\n",
    "plt.figure(figsize=(7, 4))\n",
    "plt.plot(M_grid, plain_est, \"o-\", label=\"Plain MC\")\n",
    "plt.plot(M_grid, bb_est, \"s--\", label=\"BB corrected\")\n",
    "plt.axhline(true_price, color=\"red\", ls=\"--\", label=\"Analytic value\")\n",
    "plt.xlabel(\"Time steps M\")\n",
    "plt.ylabel(\"Price\")\n",
    "plt.title(\"Bias vs discretisation\")\n",
    "plt.grid()\n",
    "plt.legend()\n",
    "plt.tight_layout()\n",
    "plt.show()"
   ]
  },
  {
   "cell_type": "markdown",
   "id": "57bf911e-c07b-44f9-92af-4fdbc941b934",
   "metadata": {},
   "source": [
    "### Conclusions\n",
    "* Plain time-discrete MC **under-prices** the down-and-out call because it misses barrier hits between sampling dates.  \n",
    "* Brownian-Bridge correction removes nearly all bias even with coarse meshes (\\(M=52\\)).  \n",
    "* Variance remains similar, so BB delivers accuracy “for free.”  \n",
    "* Combine BB with variance-reduction techniques for production-grade barrier pricing."
   ]
  }
 ],
 "metadata": {
  "kernelspec": {
   "display_name": "Python 3 (ipykernel)",
   "language": "python",
   "name": "python3"
  },
  "language_info": {
   "codemirror_mode": {
    "name": "ipython",
    "version": 3
   },
   "file_extension": ".py",
   "mimetype": "text/x-python",
   "name": "python",
   "nbconvert_exporter": "python",
   "pygments_lexer": "ipython3",
   "version": "3.10.18"
  }
 },
 "nbformat": 4,
 "nbformat_minor": 5
}
