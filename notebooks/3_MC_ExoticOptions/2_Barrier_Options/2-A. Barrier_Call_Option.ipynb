{
 "cells": [
  {
   "cell_type": "markdown",
   "id": "4ce84bdb-65f2-4176-a853-2a04ad657156",
   "metadata": {},
   "source": [
    "# Pricing Barrier Call Options using Monte Carlo Simulation\n",
    "\n",
    "This notebook prices a **barrier option**, a class of **path-dependent exotic options**, using the Monte Carlo method.\n",
    "\n",
    "Barrier options are widely used in structured products and risk management due to their cost-effectiveness compared to vanilla options."
   ]
  },
  {
   "cell_type": "code",
   "execution_count": 1,
   "id": "08c1421c-9e10-42a5-836a-6595c09f24d4",
   "metadata": {},
   "outputs": [],
   "source": [
    "import numpy as np"
   ]
  },
  {
   "cell_type": "code",
   "execution_count": 2,
   "id": "8a1147cb-70b8-48eb-9db8-642a739b7517",
   "metadata": {},
   "outputs": [],
   "source": [
    "# Simulate GBM paths for Barrier Options\n",
    "\n",
    "def simulate_barrier_path(S0, r, T, sigma, M, N):\n",
    "    dt = T / M\n",
    "    S_paths = np.zeros((N, M+1))\n",
    "    S_paths[:, 0] = S0\n",
    "\n",
    "    for t in range(1, M+1):\n",
    "        Z = np.random.randn(N)\n",
    "\n",
    "        S_paths[:, t] = S_paths[:, t-1] * np.exp((r - 0.5 * sigma**2) * dt + (sigma * np.sqrt(dt) * Z))\n",
    "\n",
    "    return S_paths"
   ]
  },
  {
   "cell_type": "code",
   "execution_count": 3,
   "id": "2c7843e1-9370-4e9d-9293-58a426c5546d",
   "metadata": {},
   "outputs": [],
   "source": [
    "# Down-and-Out Call Option\n",
    "def down_and_out_call(S_paths, K, r, T, B1):\n",
    "    S_T = S_paths[:,-1]\n",
    "    knocked_out = np.any(S_paths <= B1, axis=1)\n",
    "    down_out_payoffs = np.exp(-r*T) * np.where(~knocked_out, np.maximum(S_T - K, 0), 0)\n",
    "\n",
    "    return np.mean(down_out_payoffs), down_out_payoffs"
   ]
  },
  {
   "cell_type": "code",
   "execution_count": 4,
   "id": "b2318386-5917-455b-a9c9-433454630a71",
   "metadata": {},
   "outputs": [],
   "source": [
    "# Up and Out Call Option\n",
    "def up_and_out_call(S_paths, K, r, T, B2):\n",
    "    S_T = S_paths[:, -1]\n",
    "    knocked_out = np.any(S_paths >= B2, axis = 1)\n",
    "    up_out_payoffs = np.exp(-r*T) * np.where(~knocked_out, np.maximum(S_T - K, 0), 0)\n",
    "\n",
    "    return np.mean(up_out_payoffs), up_out_payoffs"
   ]
  },
  {
   "cell_type": "code",
   "execution_count": 5,
   "id": "b1c47151-7a53-4571-a25d-ba2ad51a72e8",
   "metadata": {},
   "outputs": [],
   "source": [
    "# Down and In Call Option\n",
    "def down_and_in(S_paths, K, r, T, B1):\n",
    "    S_T = S_paths[:, -1]\n",
    "    knocked_in = np.any(S_paths <= B1, axis = 1)\n",
    "    down_in_payoffs = np.exp(-r*T) * np.where(knocked_in, np.maximum(S_T - K, 0), 0)\n",
    "\n",
    "    return np.mean(down_in_payoffs), down_in_payoffs"
   ]
  },
  {
   "cell_type": "code",
   "execution_count": 6,
   "id": "47f17098-fe23-4130-a557-bbff3ae57125",
   "metadata": {},
   "outputs": [],
   "source": [
    "# Up and In Call Option\n",
    "def up_and_in_call(S_paths, K, r, T, B2):\n",
    "    S_T = S_paths[:, -1]\n",
    "    knocked_in = np.any(S_paths >= B2, axis =1)\n",
    "    up_in_payoffs = np.exp(-r*T) * np.where(knocked_in, np.maximum(S_T - K, 0), 0)\n",
    "\n",
    "    return np.mean(up_in_payoffs), up_in_payoffs"
   ]
  },
  {
   "cell_type": "code",
   "execution_count": 7,
   "id": "fe86aac1-bcb9-4ccd-a0e1-df5fe4caee6a",
   "metadata": {},
   "outputs": [],
   "source": [
    "# Price Vanilla Call Option (Monte carlo)\n",
    "def monte_carlo_vanilla_call(S0, K, r, T, sigma, N):\n",
    "    Z = np.random.randn(N)\n",
    "    S_T = S0 * np.exp((r - 0.5 * sigma**2) * T + (sigma * np.sqrt(T) * Z))\n",
    "    vanilla_payoffs = np.exp(-r*T) * np.maximum(S_T - K, 0)\n",
    "\n",
    "    return np.mean(vanilla_payoffs), vanilla_payoffs"
   ]
  },
  {
   "cell_type": "code",
   "execution_count": 9,
   "id": "1c5032b3-3c26-4737-a238-73f948a7b925",
   "metadata": {},
   "outputs": [
    {
     "name": "stdout",
     "output_type": "stream",
     "text": [
      "Vanilla European Call Price: 10.5368\n",
      "Down-and-Out Call Price: 9.1576\n",
      "Up-and-Out Call Price: 0.1763\n",
      "Down-and In Call Price: 1.4479\n",
      "Up-and-In Call Price: 10.4292\n"
     ]
    }
   ],
   "source": [
    "# parameters\n",
    "S0 = 100\n",
    "K = 100\n",
    "r = 0.05\n",
    "T = 1\n",
    "sigma = 0.2\n",
    "M = 100\n",
    "N = 10000\n",
    "B1 = 90\n",
    "B2 = 110\n",
    "S_paths = simulate_barrier_path(S0, r, T, sigma, M, N)\n",
    "\n",
    "# Compute prices\n",
    "vanilla_price = monte_carlo_vanilla_call(S0, K, r, T, sigma, N)[0]\n",
    "price_down_out = down_and_out_call(S_paths, K, r, T, B1)[0]\n",
    "price_up_out = up_and_out_call(S_paths, K, r, T, B2)[0]\n",
    "price_down_in = down_and_in(S_paths, K, r, T, B1)[0]\n",
    "price_up_in = up_and_in_call(S_paths, K, r, T, B2)[0]\n",
    "\n",
    "# Display results\n",
    "print(f\"Vanilla European Call Price: {vanilla_price:.4f}\")\n",
    "print(f\"Down-and-Out Call Price: {price_down_out:.4f}\")\n",
    "print(f\"Up-and-Out Call Price: {price_up_out:.4f}\")\n",
    "print(f\"Down-and In Call Price: {price_down_in:.4f}\")\n",
    "print(f\"Up-and-In Call Price: {price_up_in:.4f}\")"
   ]
  },
  {
   "cell_type": "markdown",
   "id": "266a0add-21e6-4622-b2fe-b5c1f1a13c13",
   "metadata": {},
   "source": [
    "## Barrier Option Summary and Interpretation\n",
    "\n",
    "We simulated and priced the following European-style options using Monte Carlo simulation with 10,000 paths and 100 time steps:\n",
    "\n",
    "- **Vanilla European Call**\n",
    "- **Down-and-Out Call**\n",
    "- **Up-and-Out Call**\n",
    "- **Down-and-In Call**\n",
    "- **Up-and-In Call**\n",
    "\n",
    "**Barrier options** include activation or knockout features based on whether the asset price crosses a given barrier level during its life.\n",
    "\n",
    "### Key Observations:\n",
    "\n",
    "- The **Vanilla Call** price is approximately equal to the sum of a Knock-In and Knock-Out option with the same barrier:\n",
    "  - Vanilla ≈ Down-and-In + Down-and-Out\n",
    "  - Vanilla ≈ Up-and-In + Up-and-Out\n",
    "\n",
    "- **Up-and-Out** options are much cheaper when the barrier is close to or below current spot prices due to high knockout probability.\n",
    "\n",
    "- **Knock-In** options are more valuable when the barrier is realistically reachable during the path simulation.\n",
    "\n",
    "This confirms correct implementation of path-dependent barrier features."
   ]
  },
  {
   "cell_type": "code",
   "execution_count": 10,
   "id": "f44863e5-ded8-417b-8118-393cdf6b4179",
   "metadata": {},
   "outputs": [
    {
     "data": {
      "image/png": "[encoded data removed]",
      "text/plain": [
       "<Figure size 1200x600 with 1 Axes>"
      ]
     },
     "metadata": {},
     "output_type": "display_data"
    }
   ],
   "source": [
    "import matplotlib.pyplot as plt\n",
    "\n",
    "# Assuming all variables from previous simulation are available:\n",
    "# vanilla_payoffs, down_out_payoffs, down_in_payoffs, up_out_payoffs, up_in_payoffs\n",
    "\n",
    "plt.figure(figsize=(12, 6))\n",
    "\n",
    "plt.hist(monte_carlo_vanilla_call(S0, K, r, T, sigma, N)[1], bins=100, alpha=0.5, label=\"Vanilla Call\")\n",
    "plt.hist(down_and_out_call(S_paths, K, r, T, B1)[1], bins=100, alpha=0.5, label=\"Down-and-Out Call\")\n",
    "plt.hist(down_and_in(S_paths, K, r, T, B1)[1], bins=100, alpha=0.5, label=\"Down-and-In Call\")\n",
    "plt.hist(up_and_out_call(S_paths, K, r, T, B2)[1], bins=100, alpha=0.5, label=\"Up-and-Out Call\")\n",
    "plt.hist(up_and_in_call(S_paths, K, r, T, B2)[1], bins=100, alpha=0.5, label=\"Up-and-In Call\")\n",
    "\n",
    "plt.xlabel(\"Payoff\")\n",
    "plt.ylabel(\"Frequency\")\n",
    "plt.title(\"Payoff Distribution of Various Call Options\")\n",
    "plt.legend()\n",
    "plt.grid(True)\n",
    "plt.show()"
   ]
  },
  {
   "cell_type": "code",
   "execution_count": null,
   "id": "7d4a33e1-bd40-488a-859a-43ed4269039b",
   "metadata": {},
   "outputs": [],
   "source": []
  }
 ],
 "metadata": {
  "kernelspec": {
   "display_name": "Python 3 (ipykernel)",
   "language": "python",
   "name": "python3"
  },
  "language_info": {
   "codemirror_mode": {
    "name": "ipython",
    "version": 3
   },
   "file_extension": ".py",
   "mimetype": "text/x-python",
   "name": "python",
   "nbconvert_exporter": "python",
   "pygments_lexer": "ipython3",
   "version": "3.10.18"
  }
 },
 "nbformat": 4,
 "nbformat_minor": 5
}
