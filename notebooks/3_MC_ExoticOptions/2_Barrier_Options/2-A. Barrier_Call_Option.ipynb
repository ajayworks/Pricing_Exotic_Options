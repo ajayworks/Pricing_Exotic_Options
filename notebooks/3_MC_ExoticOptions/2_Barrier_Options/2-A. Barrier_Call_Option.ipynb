{
 "cells": [
  {
   "cell_type": "markdown",
   "id": "4ce84bdb-65f2-4176-a853-2a04ad657156",
   "metadata": {},
   "source": [
    "# Monte-Carlo Pricing of Barrier Call Options\n",
    "\n",
    "We simulate five European payoffs under GBM:\n",
    "\n",
    "1. Vanilla call  \n",
    "2. Down-and-Out call (DO)  \n",
    "3. Up-and-Out call   (UO)  \n",
    "4. Down-and-In  call (DI)  \n",
    "5. Up-and-In    call (UI)\n",
    "\n",
    "Analytic validation: Reiner–Rubinstein formula for the **down-and-out call**."
   ]
  },
  {
   "cell_type": "markdown",
   "id": "dc974a7e-be1a-4d21-aeef-0d246306b2ed",
   "metadata": {},
   "source": [
    "| Symbol | Meaning | Value |\n",
    "|--------|---------|-------|\n",
    "| \\(S_0\\) | Spot price              | **100** |\n",
    "| \\(K\\)   | Strike                  | 100 |\n",
    "| \\(r\\)   | Risk-free rate         | 5 % |\n",
    "| $(\\sigma)$ | Volatility         | 20 % |\n",
    "| \\(T\\)   | Maturity               | 1 yr |\n",
    "| \\(M\\)   | Time steps             | 252 |\n",
    "| \\(N\\)   | Paths (varies)         | — |\n",
    "| $(B_{\\text{down}})$ |  90 (knock level) |\n",
    "| $(B_{\\text{up}})$   | 110 (knock level) |"
   ]
  },
  {
   "cell_type": "code",
   "execution_count": 1,
   "id": "08c1421c-9e10-42a5-836a-6595c09f24d4",
   "metadata": {},
   "outputs": [],
   "source": [
    "import numpy as np, matplotlib.pyplot as plt\n",
    "from scipy.stats import norm\n",
    "\n",
    "S0, K, r, sigma, T, M = 100, 100, 0.05, 0.20, 1.0, 252\n",
    "B_d, B_u = 90, 110\n",
    "\n",
    "np.random.seed(42)"
   ]
  },
  {
   "cell_type": "code",
   "execution_count": 2,
   "id": "8a1147cb-70b8-48eb-9db8-642a739b7517",
   "metadata": {},
   "outputs": [],
   "source": [
    "# Vectorised path simulator\n",
    "def simulate_paths(S0, r, sigma, T, M, N):\n",
    "    dt = T / M\n",
    "    Z = np.random.randn(N, M)\n",
    "    log_inc = (r - 0.5 * sigma**2) * dt + sigma * np.sqrt(dt) * Z\n",
    "    log_paths = np.cumsum(log_inc, axis=1)\n",
    "    return S0 * np.exp(log_paths)  # shape (N, M)"
   ]
  },
  {
   "cell_type": "code",
   "execution_count": 3,
   "id": "2c7843e1-9370-4e9d-9293-58a426c5546d",
   "metadata": {},
   "outputs": [],
   "source": [
    "# payoff functions\n",
    "def vanilla_call(ST):\n",
    "    return np.maximum(ST - K, 0)\n",
    "\n",
    "\n",
    "def down_and_out(paths):\n",
    "    knocked = (paths <= B_d).any(axis=1)\n",
    "    return np.where(knocked, 0, vanilla_call(paths[:, -1]))\n",
    "\n",
    "\n",
    "def up_and_out(paths):\n",
    "    knocked = (paths >= B_u).any(axis=1)\n",
    "    return np.where(knocked, 0, vanilla_call(paths[:, -1]))\n",
    "\n",
    "\n",
    "def down_and_in(paths):\n",
    "    knocked = (paths <= B_d).any(axis=1)\n",
    "    return np.where(knocked, vanilla_call(paths[:, -1]), 0)\n",
    "\n",
    "\n",
    "def up_and_in(paths):\n",
    "    knocked = (paths >= B_u).any(axis=1)\n",
    "    return np.where(knocked, vanilla_call(paths[:, -1]), 0)"
   ]
  },
  {
   "cell_type": "code",
   "execution_count": 4,
   "id": "b2318386-5917-455b-a9c9-433454630a71",
   "metadata": {},
   "outputs": [],
   "source": [
    "# monte varlo pricing\n",
    "def mc_price(payoff_fn, N=50_000):\n",
    "    paths = simulate_paths(S0, r, sigma, T, M, N)\n",
    "    payoff = np.exp(-r * T) * payoff_fn(paths)\n",
    "    mean = payoff.mean()\n",
    "    se = payoff.std(ddof=1) / np.sqrt(N)\n",
    "    return mean, 1.96 * se  # half-width CI"
   ]
  },
  {
   "cell_type": "code",
   "execution_count": 5,
   "id": "b1c47151-7a53-4571-a25d-ba2ad51a72e8",
   "metadata": {},
   "outputs": [
    {
     "name": "stdout",
     "output_type": "stream",
     "text": [
      "Vanilla : 10.3485  ± 0.1282\n",
      "Down-Out: 8.9197  ± 0.1283\n",
      "Up-Out  : 0.1527  ± 0.0075\n",
      "Down-In : 1.5218  ± 0.0466\n",
      "Up-In   : 10.1511  ± 0.1284\n"
     ]
    }
   ],
   "source": [
    "prices = {}\n",
    "for name, fn in [\n",
    "    (\"Vanilla\", lambda p: vanilla_call(p[:, -1])),\n",
    "    (\"Down-Out\", down_and_out),\n",
    "    (\"Up-Out\", up_and_out),\n",
    "    (\"Down-In\", down_and_in),\n",
    "    (\"Up-In\", up_and_in),\n",
    "]:\n",
    "    p, ci = mc_price(fn, 50_000)\n",
    "    prices[name] = (p, ci)\n",
    "    print(f\"{name:8}: {p:.4f}  ± {ci:.4f}\")"
   ]
  },
  {
   "cell_type": "markdown",
   "id": "d7468b67-0fc8-4633-80d4-5cb1f8c57a9f",
   "metadata": {},
   "source": [
    "## Analytic check — Reiner & Rubinstein Down-and-Out Call"
   ]
  },
  {
   "cell_type": "code",
   "execution_count": 6,
   "id": "fe86aac1-bcb9-4ccd-a0e1-df5fe4caee6a",
   "metadata": {},
   "outputs": [
    {
     "name": "stdout",
     "output_type": "stream",
     "text": [
      "Reiner–Rubinstein DO call: 7.7731\n",
      "Monte-Carlo DO call      : 8.9197  ± 0.1283\n"
     ]
    }
   ],
   "source": [
    "def rr_down_out_call(S0, K, B, r, T, sigma):\n",
    "    if B >= K or B <= 0:\n",
    "        raise ValueError(\"Barrier must be below strike & positive.\")\n",
    "    lam = (r + 0.5 * sigma**2) / sigma**2\n",
    "    x1 = np.log(S0 / B) / (sigma * np.sqrt(T)) + lam * sigma * np.sqrt(T)\n",
    "    y1 = np.log(B**2 / (S0 * K)) / (sigma * np.sqrt(T)) + lam * sigma * np.sqrt(T)\n",
    "    x2 = x1 - sigma * np.sqrt(T)\n",
    "    y2 = y1 - sigma * np.sqrt(T)\n",
    "    A = S0 * norm.cdf(x1) - K * np.exp(-r * T) * norm.cdf(x2)\n",
    "    B_ = S0 * (B / S0) ** (2 * lam) * norm.cdf(y1) - K * np.exp(-r * T) * (B / S0) ** (\n",
    "        2 * lam - 2\n",
    "    ) * norm.cdf(y2)\n",
    "    return A - B_\n",
    "\n",
    "\n",
    "rr_price = rr_down_out_call(S0, K, B_d, r, T, sigma)\n",
    "print(f\"Reiner–Rubinstein DO call: {rr_price:.4f}\")\n",
    "print(\n",
    "    f\"Monte-Carlo DO call      : {prices['Down-Out'][0]:.4f}  ± {prices['Down-Out'][1]:.4f}\"\n",
    ")"
   ]
  },
  {
   "cell_type": "markdown",
   "id": "e1dd599e-c9cc-43df-a9bb-591f2d236b98",
   "metadata": {},
   "source": [
    "## Payoff distribution (Vanilla vs Down-Out)"
   ]
  },
  {
   "cell_type": "code",
   "execution_count": 7,
   "id": "c0e117b4-2dc6-4673-8ce5-e16a87daabc0",
   "metadata": {},
   "outputs": [
    {
     "data": {
      "image/png": "[encoded data removed]",
      "text/plain": [
       "<Figure size 800x400 with 1 Axes>"
      ]
     },
     "metadata": {},
     "output_type": "display_data"
    }
   ],
   "source": [
    "N_plot = 30_000\n",
    "paths_plot = simulate_paths(S0, r, sigma, T, M, N_plot)\n",
    "van_pay = np.exp(-r * T) * vanilla_call(paths_plot[:, -1])\n",
    "do_pay = np.exp(-r * T) * down_and_out(paths_plot)\n",
    "\n",
    "plt.figure(figsize=(8, 4))\n",
    "plt.hist(van_pay, bins=80, alpha=0.5, label=\"Vanilla\")\n",
    "plt.hist(do_pay, bins=80, alpha=0.5, label=\"Down-Out\")\n",
    "plt.xlabel(\"Discounted payoff\")\n",
    "plt.ylabel(\"Frequency\")\n",
    "plt.title(\"Payoff distribution: Vanilla vs DO call\")\n",
    "plt.legend()\n",
    "plt.tight_layout()\n",
    "plt.show()"
   ]
  },
  {
   "cell_type": "markdown",
   "id": "e8bac44d-57e7-49e3-8203-2feaba431fcf",
   "metadata": {},
   "source": [
    "### Summary\n",
    "* Monte-Carlo estimates (50 000 paths) agree with the Reiner–Rubinstein analytic price within the 95 % CI.  \n",
    "* Out-barrier options cost less than vanilla; in-barrier options cost less **until** the rebate from barrier knock-in makes them dearer near the barrier.  "
   ]
  }
 ],
 "metadata": {
  "kernelspec": {
   "display_name": "Python 3 (ipykernel)",
   "language": "python",
   "name": "python3"
  },
  "language_info": {
   "codemirror_mode": {
    "name": "ipython",
    "version": 3
   },
   "file_extension": ".py",
   "mimetype": "text/x-python",
   "name": "python",
   "nbconvert_exporter": "python",
   "pygments_lexer": "ipython3",
   "version": "3.10.18"
  }
 },
 "nbformat": 4,
 "nbformat_minor": 5
}
