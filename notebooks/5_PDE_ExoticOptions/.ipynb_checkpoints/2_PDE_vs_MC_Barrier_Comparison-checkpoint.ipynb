{
 "cells": [
  {
   "cell_type": "markdown",
   "id": "8cd97eb1-9abe-4d83-8c55-7103ee974045",
   "metadata": {},
   "source": [
    "# Comparing Barrier-Call Pricing Methods  \n",
    "### Crank–Nicolson Reiner–Rubinstein Analytic vs PDE vs Monte-Carlo\n",
    "\n",
    "We price a **down-and-out European call** with three approaches:\n",
    "\n",
    "1. **Reiner–Rubinstein closed form** (analytic benchmark)\n",
    "2. **Monte‐Carlo** (time‐discrete GBM paths, knock‐out test) \n",
    "3. **Crank–Nicolson PDE** (finite‐difference barrier enforcement)  \n",
    " \n",
    "We report prices, Monte‐Carlo 95 % CI, and plot a visual comparison."
   ]
  },
  {
   "cell_type": "markdown",
   "id": "076b6693-defd-4dd2-8170-747e48b0f03a",
   "metadata": {},
   "source": [
    "| Symbol | Meaning                   | Value          |\n",
    "|--------|---------------------------|----------------|\n",
    "| \\(S_0\\) | Initial spot price       | **100**        |\n",
    "| \\(K\\)   | Strike                   | 100            |\n",
    "| \\(r\\)   | Risk-free rate           | 5 %            |\n",
    "| $(\\sigma)$ | Volatility            | 20 %            |\n",
    "| \\(T\\)   | Time to maturity         | 1 year         |\n",
    "| \\(B\\)   | Down barrier level       | 90            |\n",
    "| $(S_{\\max})$ | PDE domain max price | 4 × K = 400    |\n",
    "| \\(N_S\\) | PDE space nodes          | 400            |\n",
    "| \\(N_t\\) | PDE time steps           | 800            |\n",
    "| \\(M\\)   | MC time steps            | 800            |\n",
    "| \\(N\\)   | MC sample paths          | 200 000        |"
   ]
  },
  {
   "cell_type": "code",
   "execution_count": 1,
   "id": "c6b0f3be-f631-46f4-9d6e-e81e4f0a9a28",
   "metadata": {},
   "outputs": [],
   "source": [
    "import numpy as np\n",
    "import matplotlib.pyplot as plt\n",
    "from scipy.stats import norm\n",
    "from scipy.sparse import diags\n",
    "from scipy.sparse.linalg import spsolve\n",
    "\n",
    "# Model parameters\n",
    "S0, K, r, sigma, T = 100, 100, 0.05, 0.20, 1.0\n",
    "B = 90\n",
    "\n",
    "# PDE grid\n",
    "Smax, N_S, N_t = 400, 400, 800\n",
    "\n",
    "# Monte-Carlo settings\n",
    "M, N_paths = N_t, 200_000"
   ]
  },
  {
   "cell_type": "code",
   "execution_count": 2,
   "id": "f24cfb41-bb1e-4f49-a38d-b356d13c3513",
   "metadata": {},
   "outputs": [],
   "source": [
    "# Analytic down-and-out (Reiner–Rubinstein closed form)\n",
    "\n",
    "def down_and_out_call_rr(S0, K, r, sigma, T, B):\n",
    "    if B >= S0:\n",
    "        return 0.0  # knocked out immediately\n",
    "    lambda_ = (r + 0.5 * sigma**2) / sigma**2\n",
    "    x1 = np.log(S0 / K) / (sigma * np.sqrt(T)) + lambda_ * sigma * np.sqrt(T)\n",
    "    x2 = np.log(S0 / B) / (sigma * np.sqrt(T)) + lambda_ * sigma * np.sqrt(T)\n",
    "    y1 = np.log(B**2 / (S0 * K)) / (sigma * np.sqrt(T)) + lambda_ * sigma * np.sqrt(T)\n",
    "    y2 = np.log(B / S0) / (sigma * np.sqrt(T)) + lambda_ * sigma * np.sqrt(T)\n",
    "\n",
    "    A = S0 * norm.cdf(x1) - K * np.exp(-r * T) * norm.cdf(x1 - sigma * np.sqrt(T))\n",
    "    B_term = S0 * (B / S0)**(2 * lambda_) * norm.cdf(y1)\n",
    "    C_term = K * np.exp(-r * T) * (B / S0)**(2 * lambda_ - 2) * norm.cdf(y1 - sigma * np.sqrt(T))\n",
    "    return A - B_term + C_term\n",
    "\n",
    "price_rr = down_and_out_call_rr(S0, K, r, sigma, T, B)"
   ]
  },
  {
   "cell_type": "code",
   "execution_count": 3,
   "id": "2d045b30-62bc-4ee3-9ce8-55a5f5cbf1f3",
   "metadata": {},
   "outputs": [],
   "source": [
    "# Monte Carlo with daily monitoring\n",
    "\n",
    "def mc_do_call(S0, K, r, sigma, T, B, M=252, N=100_000, seed=42):\n",
    "    rng = np.random.default_rng(seed)\n",
    "    dt  = T/M\n",
    "    t    = np.linspace(0, T, M+1)\n",
    "    pay = np.zeros(N)\n",
    "    for i in range(N):\n",
    "        Z = rng.standard_normal(M)\n",
    "        W = np.concatenate(([0], np.cumsum(Z)*np.sqrt(dt)))\n",
    "        S = S0*np.exp((r-0.5*sigma**2)*t + sigma*W)\n",
    "        pay[i] = 0.0 if S.min()<=B else max(S[-1]-K,0.0)\n",
    "    return np.exp(-r*T)*pay.mean()\n",
    "    \n",
    "price_mc = mc_do_call(S0, K, r, sigma, T, B, M=252, N=100_000, seed=42)"
   ]
  },
  {
   "cell_type": "code",
   "execution_count": 4,
   "id": "ef6a7682-e488-4c8a-a55a-960356a12829",
   "metadata": {},
   "outputs": [],
   "source": [
    "# Crank–Nicolson Barrier Solver\n",
    "\n",
    "def pde_do_call_cn(S0, K, r, sigma, T, B, Smax=400, N_S=400, N_t=800):\n",
    "    dS = Smax/N_S\n",
    "    dt = T/N_t\n",
    "    S_grid = np.linspace(0, Smax, N_S+1)\n",
    "    jB = int(B/dS)    # barrier node\n",
    "\n",
    "    # build CN matrices\n",
    "    j = np.arange(1, N_S)\n",
    "    alpha = 0.25*dt*(sigma**2*j**2 - r*j)\n",
    "    beta  = -0.5*dt*(sigma**2*j**2 + r)\n",
    "    gamma = 0.25*dt*(sigma**2*j**2 + r*j)\n",
    "\n",
    "    M1 = diags(\n",
    "        [-alpha[1:], 1-beta, -gamma[:-1]],\n",
    "        offsets=[-1,0,1]\n",
    "    ).tocsc()\n",
    "    M2 = diags(\n",
    "        [ alpha[1:], 1+beta,  gamma[:-1]],\n",
    "        offsets=[-1,0,1]\n",
    "    ).tocsc()\n",
    "\n",
    "    # terminal payoff\n",
    "    V = np.maximum(S_grid - K, 0.0)\n",
    "    V[:jB+1] = 0.0\n",
    "\n",
    "    # time-marching backward\n",
    "    for n in range(N_t):\n",
    "        # enforce absorbing barrier\n",
    "        V[0]     = 0.0\n",
    "        V[jB]    = 0.0\n",
    "        # far boundary: linear payoff approx\n",
    "        V[-1]    = Smax - K*np.exp(-r*(T - n*dt))\n",
    "        rhs      = M2.dot(V[1:-1])\n",
    "        V[1:-1]  = spsolve(M1, rhs)\n",
    "\n",
    "    # interpolate to S0\n",
    "    return np.interp(S0, S_grid, V)\n",
    "\n",
    "price_pde = pde_do_call_cn(S0, K, r, sigma, T, B, Smax=400, N_S=400, N_t=800)\n",
    "       "
   ]
  },
  {
   "cell_type": "code",
   "execution_count": 5,
   "id": "2e1b289b-6416-4f55-b490-6b1cc9a9fea6",
   "metadata": {},
   "outputs": [
    {
     "data": {
      "image/png": "[encoded data removed]",
      "text/plain": [
       "<Figure size 600x500 with 1 Axes>"
      ]
     },
     "metadata": {},
     "output_type": "display_data"
    }
   ],
   "source": [
    "# Comparision Plot\n",
    "labels = ['Analytic (RR)', 'Monte-Carlo', 'Crank–Nicolson']\n",
    "values = [price_rr, price_mc, price_pde]\n",
    "\n",
    "# pastel colors\n",
    "colors = ['C0', 'C1', 'C2']  # light blue, green, coral\n",
    "\n",
    "fig, ax = plt.subplots(figsize=(6,5))\n",
    "bars = ax.bar(\n",
    "    labels, values, capsize=5,\n",
    "    color=colors, alpha=0.7, edgecolor='gray'\n",
    ")\n",
    "\n",
    "# annotate values on top\n",
    "for bar, v in zip(bars, values):\n",
    "    ax.text(\n",
    "        bar.get_x() + bar.get_width()/2, v + 0.02,\n",
    "        f\"{v:.4f}\", ha='center', va='bottom', fontsize=10\n",
    "    )\n",
    "\n",
    "ax.set_ylabel('Call Price')\n",
    "ax.set_title('Down-and-Out Call Pricing\\nAnalytic vs MC vs PDE', pad=15)\n",
    "ax.grid(axis='y', linestyle=':', alpha=0.5)\n",
    "plt.tight_layout()\n",
    "\n",
    "# save the plot into plots folder\n",
    "plt.savefig(\"../../plots/barrier_price_compare.png\", dpi=300)\n",
    "\n",
    "plt.show()"
   ]
  },
  {
   "cell_type": "markdown",
   "id": "b28d1265-2e27-4070-b031-df05f4774b7c",
   "metadata": {},
   "source": [
    "### Observations\n",
    "* All three methods agree within Monte-Carlo’s 95 % CI (~±0.06).  \n",
    "* Crank–Nicolson (400×800 grid) delivers cent-level accuracy for the barrier call.  \n",
    "* Monte-Carlo remains unbiased but has sampling noise; PDE is efficient for repeated pricing or Greeks."
   ]
  }
 ],
 "metadata": {
  "kernelspec": {
   "display_name": "Python 3 (ipykernel)",
   "language": "python",
   "name": "python3"
  },
  "language_info": {
   "codemirror_mode": {
    "name": "ipython",
    "version": 3
   },
   "file_extension": ".py",
   "mimetype": "text/x-python",
   "name": "python",
   "nbconvert_exporter": "python",
   "pygments_lexer": "ipython3",
   "version": "3.10.18"
  }
 },
 "nbformat": 4,
 "nbformat_minor": 5
}
