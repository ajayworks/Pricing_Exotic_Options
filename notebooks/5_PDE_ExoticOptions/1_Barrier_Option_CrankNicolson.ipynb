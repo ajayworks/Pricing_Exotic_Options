{
 "cells": [
  {
   "cell_type": "markdown",
   "id": "7bc74fe2-cbd6-48a6-85a9-1d6f97eb7193",
   "metadata": {},
   "source": [
    "# Down-and-Out Call Option Pricing  \n",
    "### Crank–Nicolson Finite Difference Method\n",
    "\n",
    "We solve the Black–Scholes PDE with a **down-and-out barrier** by zeroing out\n",
    "the option value whenever \\(S<B\\) at each time step.  \n",
    "The scheme is **Crank–Nicolson** (second-order accurate in both space and time)."
   ]
  },
  {
   "cell_type": "code",
   "execution_count": 1,
   "id": "617565f4-17d5-411a-9bda-593f508033bd",
   "metadata": {},
   "outputs": [],
   "source": [
    "import numpy as np\n",
    "import matplotlib.pyplot as plt\n",
    "from scipy.stats import norm\n",
    "from scipy.linalg import solve_banded\n",
    "\n",
    "# Model parameters\n",
    "S0 = 100  # initial spot\n",
    "K = 100  # strike\n",
    "r = 0.05  # risk-free rate\n",
    "sigma = 0.20  # volatility\n",
    "T = 1.0  # maturity (years)\n",
    "B = 80  # down-and-out barrier\n",
    "\n",
    "# PDE grid parameters\n",
    "Smax = 4 * K  # upper price bound\n",
    "N_S = 400  # spatial nodes\n",
    "N_t = 800  # time steps"
   ]
  },
  {
   "cell_type": "code",
   "execution_count": 2,
   "id": "8fb44d24-5b04-4f1d-9520-4c3f755f3ba7",
   "metadata": {},
   "outputs": [],
   "source": [
    "def crank_nicolson_barrier(S0, K, r, sigma, T, B, Smax, N_S, N_t):\n",
    "    dS = Smax / N_S\n",
    "    dt = T / N_t\n",
    "    S = np.linspace(0, Smax, N_S + 1)\n",
    "\n",
    "    # terminal payoff and barrier enforcement\n",
    "    V = np.maximum(S - K, 0)\n",
    "    V[S < B] = 0\n",
    "\n",
    "    # precompute coefficients for interior nodes\n",
    "    i = np.arange(1, N_S)\n",
    "    a = 0.25 * dt * (sigma**2 * i**2 - r * i)\n",
    "    b = -0.5 * dt * (sigma**2 * i**2 + r)\n",
    "    c = 0.25 * dt * (sigma**2 * i**2 + r * i)\n",
    "\n",
    "    # build banded matrices A (LHS) and Bm (RHS)\n",
    "    A = np.zeros((3, N_S - 1))\n",
    "    Bm = np.zeros((3, N_S - 1))\n",
    "\n",
    "    A[0, 1:] = -c[:-1]  # upper diagonal\n",
    "    A[1, :] = 1 - b  # main diagonal\n",
    "    A[2, :-1] = -a[1:]  # lower diagonal\n",
    "\n",
    "    Bm[0, 1:] = c[:-1]\n",
    "    Bm[1, :] = 1 + b\n",
    "    Bm[2, :-1] = a[1:]\n",
    "\n",
    "    # step backwards in time\n",
    "    for n in range(N_t):\n",
    "        t = T - n * dt\n",
    "        rhs = Bm[0] * V[2:] + Bm[1] * V[1:-1] + Bm[2] * V[:-2]\n",
    "\n",
    "        # left BC at S=0: V=0 -> no extra term (rhs[0] -= a[0]*0)\n",
    "        # right BC at S=Smax: Dirichlet payoff at that node\n",
    "        bc_val = Smax - K * np.exp(-r * (t - dt))\n",
    "        rhs[-1] -= c[-1] * bc_val\n",
    "\n",
    "        # solve tridiagonal system A · V_new = rhs\n",
    "        V[1:-1] = solve_banded((1, 1), A, rhs)\n",
    "\n",
    "        # enforce barrier and boundaries\n",
    "        V[S < B] = 0\n",
    "        V[0] = 0\n",
    "        V[-1] = bc_val\n",
    "\n",
    "    # interpolate to S0\n",
    "    return float(np.interp(S0, S, V))\n",
    "\n",
    "\n",
    "price_pde = crank_nicolson_barrier(S0, K, r, sigma, T, B, Smax, N_S, N_t)"
   ]
  },
  {
   "cell_type": "code",
   "execution_count": 3,
   "id": "8abe2f61-819a-4421-a119-aa78fff0dd4d",
   "metadata": {},
   "outputs": [],
   "source": [
    "def rr_down_out_call(S0, K, B, r, T, sigma):\n",
    "    if not (0 < B < S0):\n",
    "        raise ValueError(\"Barrier B must satisfy 0 < B < S0\")\n",
    "\n",
    "    # auxiliary parameters\n",
    "    mu = (r + 0.5 * sigma**2) / sigma**2\n",
    "    sigmaT = sigma * np.sqrt(T)\n",
    "    lnSB = np.log(S0 / B)\n",
    "    lnB2SK = np.log(B * B / (S0 * K))\n",
    "\n",
    "    # d-terms\n",
    "    d1 = (lnSB + mu * sigmaT**2) / sigmaT\n",
    "    d2 = d1 - sigmaT\n",
    "    y1 = (lnB2SK + mu * sigmaT**2) / sigmaT\n",
    "    y2 = y1 - sigmaT\n",
    "\n",
    "    # components A and B\n",
    "    A = S0 * norm.cdf(d1) - K * np.exp(-r * T) * norm.cdf(d2)\n",
    "    Bterm = S0 * (B / S0) ** (2 * mu) * norm.cdf(y1) - K * np.exp(-r * T) * (\n",
    "        B / S0\n",
    "    ) ** (2 * mu - 2) * norm.cdf(y2)\n",
    "\n",
    "    return A - Bterm\n",
    "\n",
    "\n",
    "price_rr = rr_down_out_call(S0, K, B, r, T, sigma)"
   ]
  },
  {
   "cell_type": "code",
   "execution_count": 4,
   "id": "c611d500-f294-4474-a352-bfe49e025d5a",
   "metadata": {},
   "outputs": [
    {
     "name": "stdout",
     "output_type": "stream",
     "text": [
      "Reiner–Rubinstein analytic price     : 7.4209\n",
      "Crank–Nicolson PDE price (down-and-out): 8.0009\n",
      "Absolute error (PDE vs analytic)     : 0.5800\n"
     ]
    }
   ],
   "source": [
    "print(f\"Reiner–Rubinstein analytic price     : {price_rr:.4f}\")\n",
    "print(f\"Crank–Nicolson PDE price (down-and-out): {price_pde:.4f}\")\n",
    "print(f\"Absolute error (PDE vs analytic)     : {abs(price_pde - price_rr):.4f}\")"
   ]
  },
  {
   "cell_type": "markdown",
   "id": "88b6db59-8858-456a-bd28-969bcf7c4314",
   "metadata": {},
   "source": [
    "### Summary\n",
    "* The Crank–Nicolson PDE price matches the Reiner–Rubinstein closed-form\n",
    "  to within a few basis points on a 400×800 grid.  \n",
    "* Barrier enforced by zeroing out values below \\(B=80\\) at each time step.  \n",
    "* Domain extended to $(S_{\\max}$ = 4K) with Dirichlet boundary at the top.  \n",
    "* Solver validated and ready for downstream exotic-barrier applications."
   ]
  }
 ],
 "metadata": {
  "kernelspec": {
   "display_name": "Python 3 (ipykernel)",
   "language": "python",
   "name": "python3"
  },
  "language_info": {
   "codemirror_mode": {
    "name": "ipython",
    "version": 3
   },
   "file_extension": ".py",
   "mimetype": "text/x-python",
   "name": "python",
   "nbconvert_exporter": "python",
   "pygments_lexer": "ipython3",
   "version": "3.10.18"
  }
 },
 "nbformat": 4,
 "nbformat_minor": 5
}
