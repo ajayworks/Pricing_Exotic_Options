{
 "cells": [
  {
   "cell_type": "markdown",
   "id": "4672648c-cc09-4598-b8aa-d9d766076d04",
   "metadata": {},
   "source": [
    "# Barrier Option Pricing using Crank-Nicolson PDE Method\n",
    "\n",
    "## Objective:\n",
    "Implement and validate pricing of **Barrier Options** using a finite difference Crank-Nicolson method.\n",
    "\n",
    "We focus on:\n",
    "- Down-and-Out European Put option\n",
    "- Barrier grid logic (zero value below barrier)\n",
    "- Comparison with standard vanilla option"
   ]
  },
  {
   "cell_type": "code",
   "execution_count": 4,
   "id": "60cb9c10-2520-4c25-8794-0ef6331e1731",
   "metadata": {},
   "outputs": [],
   "source": [
    "import numpy as np\n",
    "import matplotlib.pyplot as plt\n",
    "from matplotlib import cm"
   ]
  },
  {
   "cell_type": "code",
   "execution_count": 5,
   "id": "258c8bcd-6419-4eac-9dd7-9f1c087c2961",
   "metadata": {},
   "outputs": [],
   "source": [
    "class CrankNicolsonBarrierSolver:\n",
    "    def __init__(self, S_max, K, B, T, r, sigma, M=100, N=100, is_call=False, rebate=0.0):\n",
    "        self.S_max = S_max\n",
    "        self.K = K\n",
    "        self.B = B\n",
    "        self.T = T\n",
    "        self.r = r\n",
    "        self.sigma = sigma\n",
    "        self.M = M  # time steps\n",
    "        self.N = N  # asset steps\n",
    "        self.is_call = is_call\n",
    "        self.rebate = rebate\n",
    "        \n",
    "        self.dS = (S_max - B) / N\n",
    "        self.dt = T / M\n",
    "        self.grid = np.zeros((N + 1, M + 1))\n",
    "        self.S = np.linspace(B, S_max, N + 1)\n",
    "    \n",
    "    def payoff(self, S):\n",
    "        if self.is_call:\n",
    "            return np.maximum(S - self.K, 0)\n",
    "        else:\n",
    "            return np.maximum(self.K - S, 0)\n",
    "    \n",
    "    def solve(self):\n",
    "        i_vals = np.arange(1, self.N)\n",
    "        dt, dS = self.dt, self.dS\n",
    "        S = self.S\n",
    "        \n",
    "        alpha = 0.25 * dt * (self.sigma ** 2 * (i_vals ** 2) - self.r * i_vals)\n",
    "        beta = -0.5 * dt * (self.sigma ** 2 * (i_vals ** 2) + self.r)\n",
    "        gamma = 0.25 * dt * (self.sigma ** 2 * (i_vals ** 2) + self.r * i_vals)\n",
    "        \n",
    "        # Terminal condition\n",
    "        self.grid[:, -1] = self.payoff(S)\n",
    "        \n",
    "        # Apply boundary condition: Knocked out below barrier\n",
    "        self.grid[0, :] = self.rebate\n",
    "        self.grid[-1, :] = self.payoff(S[-1]) if not self.is_call else 0\n",
    "        \n",
    "        M = self.M\n",
    "        for j in reversed(range(M)):\n",
    "            A = np.zeros((self.N - 1, self.N - 1))\n",
    "            B = np.zeros(self.N - 1)\n",
    "            \n",
    "            for i in range(1, self.N):\n",
    "                if i > 1:\n",
    "                    A[i - 1, i - 2] = -alpha[i - 1]\n",
    "                A[i - 1, i - 1] = 1 - beta[i - 1]\n",
    "                if i < self.N - 1:\n",
    "                    A[i - 1, i] = -gamma[i - 1]\n",
    "                \n",
    "                B[i - 1] = alpha[i - 1] * self.grid[i - 1, j + 1] + \\\n",
    "                           (1 + beta[i - 1]) * self.grid[i, j + 1] + \\\n",
    "                           gamma[i - 1] * self.grid[i + 1, j + 1]\n",
    "            \n",
    "            x = np.linalg.solve(A, B)\n",
    "            self.grid[1:self.N, j] = x\n",
    "        \n",
    "        return np.interp(self.K, S, self.grid[:, 0])  # Option price at S = K"
   ]
  },
  {
   "cell_type": "code",
   "execution_count": 6,
   "id": "75fc71f9-36f3-4be2-a98d-1d4985b6cf91",
   "metadata": {},
   "outputs": [
    {
     "name": "stdout",
     "output_type": "stream",
     "text": [
      "Down-and-Out Put Option Price (PDE): 1.1273\n"
     ]
    }
   ],
   "source": [
    "# Parameters\n",
    "S_max = 200\n",
    "B = 80        # Barrier (below S0)\n",
    "K = 100\n",
    "T = 1.0\n",
    "r = 0.05\n",
    "sigma = 0.2\n",
    "S0 = 100\n",
    "\n",
    "solver = CrankNicolsonBarrierSolver(S_max=S_max, K=K, B=B, T=T, r=r, sigma=sigma, is_call=False)\n",
    "barrier_price = solver.solve()\n",
    "print(f\"Down-and-Out Put Option Price (PDE): {barrier_price:.4f}\")"
   ]
  },
  {
   "cell_type": "markdown",
   "id": "5e76cfdb-ba8c-42d6-8a3d-45a8a06468b5",
   "metadata": {},
   "source": [
    "## Summary:\n",
    "\n",
    "We implemented a finite difference Crank-Nicolson scheme to price a **Down-and-Out European Put**.\n",
    "\n",
    "### Key Points:\n",
    "- **Barrier Enforcement:** Grid values below the barrier are set to zero (knock-out condition).\n",
    "- **Convergence:** The result can be verified by increasing grid resolution.\n",
    "- **Comparison:** To be validated against Monte Carlo results (see next notebook).\n",
    "\n",
    "This method shows how PDEs can handle barrier conditions effectively with proper grid alignment and boundary handling."
   ]
  },
  {
   "cell_type": "code",
   "execution_count": null,
   "id": "4ffde28e-cf09-4e48-92e7-0ccdb444cebb",
   "metadata": {},
   "outputs": [],
   "source": []
  }
 ],
 "metadata": {
  "kernelspec": {
   "display_name": "Python 3 (ipykernel)",
   "language": "python",
   "name": "python3"
  },
  "language_info": {
   "codemirror_mode": {
    "name": "ipython",
    "version": 3
   },
   "file_extension": ".py",
   "mimetype": "text/x-python",
   "name": "python",
   "nbconvert_exporter": "python",
   "pygments_lexer": "ipython3",
   "version": "3.10.18"
  }
 },
 "nbformat": 4,
 "nbformat_minor": 5
}
