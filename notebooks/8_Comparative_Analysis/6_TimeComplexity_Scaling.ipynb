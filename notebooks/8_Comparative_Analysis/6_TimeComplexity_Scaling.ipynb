{
 "cells": [
  {
   "cell_type": "markdown",
   "id": "84c3fb91-d37d-4fa0-87e1-166d09276a78",
   "metadata": {},
   "source": [
    "# Time Complexity & Scaling Analysis\n",
    "\n",
    "In this notebook, we analyze how the runtime of different option pricing methods scales with increasing computational resolution. The focus is on:\n",
    "\n",
    "- Crank-Nicolson PDE method\n",
    "- Monte Carlo simulation\n",
    "- Binomial Tree method\n",
    "\n",
    "We benchmark runtimes against increasing resolution parameters and assess the practical trade-offs between speed and accuracy."
   ]
  },
  {
   "cell_type": "code",
   "execution_count": 2,
   "id": "752e6122-bc58-4d39-ad8b-c57d623e89f9",
   "metadata": {},
   "outputs": [],
   "source": [
    "import numpy as np\n",
    "import matplotlib.pyplot as plt\n",
    "import time\n",
    "import os, sys\n",
    "\n",
    "sys.path.append(os.path.abspath(\"../../\"))\n",
    "\n",
    "from pricing.bsm import black_scholes_price\n",
    "from pricing.monte_carlo import MonteCarloPricer\n",
    "from pricing.pde import CrankNicolsonSolver\n",
    "from pricing.binomial_tree import BinomialVanillaPricer"
   ]
  },
  {
   "cell_type": "code",
   "execution_count": null,
   "id": "4b30ad60-2ac6-4bcd-966c-3732d12e77db",
   "metadata": {},
   "outputs": [],
   "source": [
    "# Parameters\n",
    "\n",
    "S0 = 100\n",
    "K = 100\n",
    "T = 1.0\n",
    "r = 0.05\n",
    "sigma = 0.2\n",
    "is_call = True\n",
    "\n",
    "bsm_ref = black_scholes_price(S0, K, T, r, sigma, option_type=\"call\")\n",
    "print(f\"BSM Reference Price: {bsm_ref:.4f}\")"
   ]
  },
  {
   "cell_type": "code",
   "execution_count": null,
   "id": "7be397f2-230f-4de6-9f50-8abff174e279",
   "metadata": {},
   "outputs": [],
   "source": [
    "# Measure PDE Runtimes\n",
    "\n",
    "pde_steps = np.arange(20, 220, 20)\n",
    "pde_times = []\n",
    "\n",
    "for N in pde_steps:\n",
    "    start = time.time()\n",
    "    solver = CrankNicolsonSolver(S_max=200, K=K, T=T, r=r, sigma=sigma, M=100, N=N, is_call=is_call)\n",
    "    solver.solve()\n",
    "    pde_times.append(time.time() - start)"
   ]
  },
  {
   "cell_type": "code",
   "execution_count": null,
   "id": "272c749d-5db7-4edf-8d86-47919e4f1735",
   "metadata": {},
   "outputs": [],
   "source": [
    "# Measure MC Runtimes\n",
    "\n",
    "mc_paths = [1000, 2000, 4000, 8000, 16000]\n",
    "mc_times = []\n",
    "\n",
    "for n_paths in mc_paths:\n",
    "    start = time.time()\n",
    "    pricer = MonteCarloPricer(S0, K, T, r, sigma, n_paths=n_paths, option_type='call')\n",
    "    pricer.simulate_payoffs()\n",
    "    mc_times.append(time.time() - start)"
   ]
  },
  {
   "cell_type": "code",
   "execution_count": null,
   "id": "67c9be80-d37d-4c4f-9b18-d080a7403881",
   "metadata": {},
   "outputs": [],
   "source": [
    "# Measure Binomial Runtimes\n",
    "\n",
    "binomial_steps = np.arange(50, 1050, 100)\n",
    "binomial_times = []\n",
    "\n",
    "for N in binomial_steps:\n",
    "    start = time.time()\n",
    "    pricer = BinomialVanillaPricer(S0, K, T, r, sigma, N, is_call)\n",
    "    binomial_times.append(time.time() - start)"
   ]
  },
  {
   "cell_type": "code",
   "execution_count": null,
   "id": "b406526b-36a6-42c9-b173-deee05e37c7b",
   "metadata": {},
   "outputs": [],
   "source": [
    "# Plot Runtime Scaling\n",
    "\n",
    "plt.figure(figsize=(10, 6))\n",
    "plt.plot(pde_steps, pde_times, label=\"PDE (Crank-Nicolson)\", marker='s')\n",
    "plt.plot(mc_paths, mc_times, label=\"Monte Carlo\", marker='o')\n",
    "plt.plot(binomial_steps, binomial_times, label=\"Binomial Tree\", marker='^')\n",
    "\n",
    "plt.xlabel(\"Resolution (Grid steps / Paths)\")\n",
    "plt.ylabel(\"Runtime (seconds)\")\n",
    "plt.title(\"Time Complexity & Scaling of Pricing Methods\")\n",
    "plt.legend()\n",
    "plt.grid(True)\n",
    "plt.show()"
   ]
  },
  {
   "cell_type": "markdown",
   "id": "433c6c10-19b2-4023-892e-e8d7bd972469",
   "metadata": {},
   "source": [
    "### Observations\n",
    "\n",
    "- **PDE (Crank-Nicolson)** shows nearly linear scaling with the number of time steps due to matrix operations.\n",
    "- **Monte Carlo** runtime increases linearly with the number of paths but has relatively low slope (highly parallelizable).\n",
    "- **Binomial Tree** scales roughly quadratically with number of steps due to nested loops.\n",
    "\n",
    "PDE is fast for moderate grids, MC is best for high-dimensional options, and Binomial is easy to implement but computationally expensive for high steps."
   ]
  },
  {
   "cell_type": "code",
   "execution_count": null,
   "id": "22114eba-4c89-4219-ae9e-beb5d009b1d6",
   "metadata": {},
   "outputs": [],
   "source": [
    "pde_errors, pde_times_acc = [], []\n",
    "for N in pde_steps:\n",
    "    start = time.time()\n",
    "    solver = CrankNicolsonSolver(S_max=200, K=K, T=T, r=r, sigma=sigma, M=100, N=N, is_call=is_call)\n",
    "    price_vec, grid = solver.solve()\n",
    "    price = np.interp(S0, grid, price_vec)\n",
    "    pde_times_acc.append(time.time() - start)\n",
    "    pde_errors.append(abs(price - bsm_ref))\n",
    "\n",
    "mc_errors, mc_times_acc = [], []\n",
    "for n_paths in mc_paths:\n",
    "    start = time.time()\n",
    "    pricer = MonteCarloPricer(S0, K, T, r, sigma, n_paths=n_paths, option_type='call')\n",
    "    pricer.simulate_payoffs()\n",
    "    mc_times_acc.append(time.time() - start)\n",
    "    mc_errors.append(abs(price - bsm_ref))\n",
    "\n",
    "binomial_errors, binomial_times_acc = [], []\n",
    "for N in binomial_steps:\n",
    "    start = time.time()\n",
    "    price = BinomialVanillaPricer(S0, K, T, r, sigma, N, is_call).price()\n",
    "    binomial_times_acc.append(time.time() - start)\n",
    "    binomial_errors.append(abs(price - bsm_ref))"
   ]
  },
  {
   "cell_type": "code",
   "execution_count": null,
   "id": "dbb45281-1d01-48e7-8731-0043b489456e",
   "metadata": {},
   "outputs": [],
   "source": [
    "plt.figure(figsize=(10, 6))\n",
    "\n",
    "plt.plot(pde_times_acc, pde_errors, label=\"PDE\", marker='s')\n",
    "plt.plot(mc_times_acc, mc_errors, label=\"Monte Carlo\", marker='o')\n",
    "plt.plot(binomial_times_acc, binomial_errors, label=\"Binomial\", marker='^')\n",
    "\n",
    "plt.xlabel(\"Runtime (seconds)\")\n",
    "plt.ylabel(\"Absolute Error vs BSM\")\n",
    "plt.title(\"Runtime vs Accuracy Trade-off\")\n",
    "plt.yscale('log')\n",
    "plt.grid(True)\n",
    "plt.legend()\n",
    "plt.show()"
   ]
  },
  {
   "cell_type": "markdown",
   "id": "41816407-448e-4770-8183-68e18672e7b2",
   "metadata": {},
   "source": [
    "### Runtime vs Accuracy Summary\n",
    "\n",
    "- **PDE Method** achieves low error quickly, making it efficient for vanilla options.\n",
    "- **Monte Carlo** improves accuracy slowly over time, but it's scalable and flexible for exotic options.\n",
    "- **Binomial Tree** shows higher initial error and runtime grows quickly — less efficient for high accuracy.\n",
    "\n",
    "This comparison highlights that **PDE methods dominate vanilla option pricing**, but **Monte Carlo remains competitive** for flexibility, especially when payoff structure becomes complex."
   ]
  },
  {
   "cell_type": "code",
   "execution_count": null,
   "id": "5c7e379f-8209-4849-b2b8-91433d061bff",
   "metadata": {},
   "outputs": [],
   "source": []
  }
 ],
 "metadata": {
  "kernelspec": {
   "display_name": "Python 3 (ipykernel)",
   "language": "python",
   "name": "python3"
  },
  "language_info": {
   "codemirror_mode": {
    "name": "ipython",
    "version": 3
   },
   "file_extension": ".py",
   "mimetype": "text/x-python",
   "name": "python",
   "nbconvert_exporter": "python",
   "pygments_lexer": "ipython3",
   "version": "3.10.18"
  }
 },
 "nbformat": 4,
 "nbformat_minor": 5
}
