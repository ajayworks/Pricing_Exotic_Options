{
 "cells": [
  {
   "cell_type": "markdown",
   "id": "9a529f70-0c71-4c66-ac1a-37769ae9a6ea",
   "metadata": {},
   "source": [
    "# Error Analysis & Calibration\n",
    "\n",
    "This notebook summarizes the performance of different numerical pricing methods:\n",
    "- Absolute error compared to Black-Scholes (BSM) benchmark\n",
    "- Runtime and accuracy comparison\n",
    "- Final compiled performance table"
   ]
  },
  {
   "cell_type": "code",
   "execution_count": 2,
   "id": "19c1b70e-b634-4610-a43a-53a152410681",
   "metadata": {},
   "outputs": [
    {
     "data": {
      "text/html": [
       "<div>\n",
       "<style scoped>\n",
       "    .dataframe tbody tr th:only-of-type {\n",
       "        vertical-align: middle;\n",
       "    }\n",
       "\n",
       "    .dataframe tbody tr th {\n",
       "        vertical-align: top;\n",
       "    }\n",
       "\n",
       "    .dataframe thead th {\n",
       "        text-align: right;\n",
       "    }\n",
       "</style>\n",
       "<table border=\"1\" class=\"dataframe\">\n",
       "  <thead>\n",
       "    <tr style=\"text-align: right;\">\n",
       "      <th></th>\n",
       "      <th>Method</th>\n",
       "      <th>Price</th>\n",
       "      <th>Time (s)</th>\n",
       "      <th>Error vs BSM</th>\n",
       "      <th>Notes</th>\n",
       "    </tr>\n",
       "  </thead>\n",
       "  <tbody>\n",
       "    <tr>\n",
       "      <th>0</th>\n",
       "      <td>Black-Scholes (Analytical)</td>\n",
       "      <td>10.45</td>\n",
       "      <td>0.0001</td>\n",
       "      <td>0.00</td>\n",
       "      <td>Benchmark</td>\n",
       "    </tr>\n",
       "    <tr>\n",
       "      <th>1</th>\n",
       "      <td>Monte Carlo (1e5 paths)</td>\n",
       "      <td>10.38</td>\n",
       "      <td>0.1200</td>\n",
       "      <td>0.07</td>\n",
       "      <td>Basic MC</td>\n",
       "    </tr>\n",
       "    <tr>\n",
       "      <th>2</th>\n",
       "      <td>PDE (Crank-Nicolson, M=100, N=100)</td>\n",
       "      <td>10.43</td>\n",
       "      <td>0.0800</td>\n",
       "      <td>0.02</td>\n",
       "      <td>Dirichlet BC</td>\n",
       "    </tr>\n",
       "    <tr>\n",
       "      <th>3</th>\n",
       "      <td>Binomial Tree (N=500)</td>\n",
       "      <td>10.41</td>\n",
       "      <td>0.0300</td>\n",
       "      <td>0.04</td>\n",
       "      <td>Recombining Tree</td>\n",
       "    </tr>\n",
       "  </tbody>\n",
       "</table>\n",
       "</div>"
      ],
      "text/plain": [
       "                               Method  Price  Time (s)  Error vs BSM  \\\n",
       "0          Black-Scholes (Analytical)  10.45    0.0001          0.00   \n",
       "1             Monte Carlo (1e5 paths)  10.38    0.1200          0.07   \n",
       "2  PDE (Crank-Nicolson, M=100, N=100)  10.43    0.0800          0.02   \n",
       "3               Binomial Tree (N=500)  10.41    0.0300          0.04   \n",
       "\n",
       "              Notes  \n",
       "0         Benchmark  \n",
       "1          Basic MC  \n",
       "2      Dirichlet BC  \n",
       "3  Recombining Tree  "
      ]
     },
     "execution_count": 2,
     "metadata": {},
     "output_type": "execute_result"
    }
   ],
   "source": [
    "import pandas as pd\n",
    "\n",
    "# Example data (you can replace with your actual values)\n",
    "data = [\n",
    "    {\n",
    "        \"Method\": \"Black-Scholes (Analytical)\",\n",
    "        \"Price\": 10.45,\n",
    "        \"Time (s)\": 0.0001,\n",
    "        \"Error vs BSM\": 0.0,\n",
    "        \"Notes\": \"Benchmark\"\n",
    "    },\n",
    "    {\n",
    "        \"Method\": \"Monte Carlo (1e5 paths)\",\n",
    "        \"Price\": 10.38,\n",
    "        \"Time (s)\": 0.12,\n",
    "        \"Error vs BSM\": abs(10.38 - 10.45),\n",
    "        \"Notes\": \"Basic MC\"\n",
    "    },\n",
    "    {\n",
    "        \"Method\": \"PDE (Crank-Nicolson, M=100, N=100)\",\n",
    "        \"Price\": 10.43,\n",
    "        \"Time (s)\": 0.08,\n",
    "        \"Error vs BSM\": abs(10.43 - 10.45),\n",
    "        \"Notes\": \"Dirichlet BC\"\n",
    "    },\n",
    "    {\n",
    "        \"Method\": \"Binomial Tree (N=500)\",\n",
    "        \"Price\": 10.41,\n",
    "        \"Time (s)\": 0.03,\n",
    "        \"Error vs BSM\": abs(10.41 - 10.45),\n",
    "        \"Notes\": \"Recombining Tree\"\n",
    "    },\n",
    "]\n",
    "\n",
    "df = pd.DataFrame(data)\n",
    "df = df[[\"Method\", \"Price\", \"Time (s)\", \"Error vs BSM\", \"Notes\"]]\n",
    "df"
   ]
  },
  {
   "cell_type": "markdown",
   "id": "17de34ce-09d0-4812-9b19-c1014245b80d",
   "metadata": {},
   "source": [
    "##  Observations\n",
    "\n",
    "- **Black-Scholes** serves as the analytical reference.\n",
    "- **Monte Carlo** converges slowly but generalizes well to path-dependent options.\n",
    "- **PDE (Crank-Nicolson)** provides fast and accurate results for vanilla options.\n",
    "- **Binomial Tree** is intuitive and converges well but may require more steps for complex payoffs."
   ]
  },
  {
   "cell_type": "code",
   "execution_count": null,
   "id": "c36fb2fb-3b3c-4ca7-a39a-06c58030534f",
   "metadata": {},
   "outputs": [],
   "source": []
  }
 ],
 "metadata": {
  "kernelspec": {
   "display_name": "Python 3 (ipykernel)",
   "language": "python",
   "name": "python3"
  },
  "language_info": {
   "codemirror_mode": {
    "name": "ipython",
    "version": 3
   },
   "file_extension": ".py",
   "mimetype": "text/x-python",
   "name": "python",
   "nbconvert_exporter": "python",
   "pygments_lexer": "ipython3",
   "version": "3.10.18"
  }
 },
 "nbformat": 4,
 "nbformat_minor": 5
}
