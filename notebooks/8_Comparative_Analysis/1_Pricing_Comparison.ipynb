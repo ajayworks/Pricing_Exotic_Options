{
 "cells": [
  {
   "cell_type": "markdown",
   "id": "6177ac39-687b-42e1-90de-29d4e668c1bb",
   "metadata": {},
   "source": [
    "## Comparative Analysis of Option Pricing Methods\n",
    "\n",
    "In this notebook, we benchmark and compare three key option pricing approaches for European vanilla options:\n",
    "\n",
    "- **Black-Scholes-Merton (BSM)** closed-form analytical formula\n",
    "- **Monte Carlo Simulation** with Euler discretization\n",
    "- **PDE Solver** using Crank-Nicolson finite difference method\n",
    "\n",
    "### Objectives:\n",
    "- Compare prices across all methods for consistency\n",
    "- Measure runtime and performance\n",
    "- Analyze convergence trends with varying grid/path size"
   ]
  },
  {
   "cell_type": "code",
   "execution_count": 7,
   "id": "4512222b-870b-43fc-88b1-3c420fff45dc",
   "metadata": {},
   "outputs": [],
   "source": [
    "import numpy as np\n",
    "import time\n",
    "import matplotlib.pyplot as plt\n",
    "import os, sys\n",
    "\n",
    "sys.path.append(os.path.abspath(\"../../\"))\n",
    "\n",
    "from pricing.bsm import black_scholes_price\n",
    "from pricing.monte_carlo import MonteCarloPricer\n",
    "from pricing.pde import CrankNicolsonSolver"
   ]
  },
  {
   "cell_type": "code",
   "execution_count": 8,
   "id": "f9ee1f4b-4097-4c6b-bd92-267b8a04868d",
   "metadata": {},
   "outputs": [],
   "source": [
    "# Parameters:\n",
    "S0 = 100        # Initial asset price\n",
    "K = 100        # Strike\n",
    "T = 1.0        # Time to maturity (1 year)\n",
    "r = 0.05       # Risk-free rate\n",
    "sigma = 0.2    # Volatility\n",
    "option_type = \"call\""
   ]
  },
  {
   "cell_type": "code",
   "execution_count": 9,
   "id": "6aed16ca-70ae-4050-9a60-f8a21c1709b8",
   "metadata": {},
   "outputs": [
    {
     "name": "stdout",
     "output_type": "stream",
     "text": [
      "BSM Price: 10.4506 (Time: 0.018725 sec)\n"
     ]
    }
   ],
   "source": [
    "# Solve BSM\n",
    "start = time.time()\n",
    "bsm_price = black_scholes_price(S0, K, T, r, sigma, option_type)\n",
    "bsm_time = time.time() - start\n",
    "\n",
    "print(f\"BSM Price: {bsm_price:.4f} (Time: {bsm_time:.6f} sec)\")"
   ]
  },
  {
   "cell_type": "code",
   "execution_count": 10,
   "id": "7c692e47-216a-4da8-9c29-dba473a5407a",
   "metadata": {},
   "outputs": [
    {
     "name": "stdout",
     "output_type": "stream",
     "text": [
      "Monte Carlo Price: 10.5179 (Time: 0.322651 sec)\n"
     ]
    }
   ],
   "source": [
    "# Solve monte_carlo\n",
    "mc = MonteCarloPricer(S0=S0,K=K,T=T,r=r,sigma=sigma,option_type=option_type,n_paths=100000,n_steps=100)\n",
    "start = time.time()\n",
    "mc_price = mc.price_european_option()\n",
    "mc_time = time.time() - start\n",
    "\n",
    "print(f\"Monte Carlo Price: {mc_price:.4f} (Time: {mc_time:.6f} sec)\")"
   ]
  },
  {
   "cell_type": "code",
   "execution_count": 11,
   "id": "5885f900-3336-41fb-9c2f-ab89ce395f95",
   "metadata": {},
   "outputs": [
    {
     "name": "stdout",
     "output_type": "stream",
     "text": [
      "PDE Price: 10.4425 (Time: 0.031048 sec)\n"
     ]
    }
   ],
   "source": [
    "# Initialize and solve PDE\n",
    "start = time.time()\n",
    "solver = CrankNicolsonSolver(S_max=200, K=K, T=T, r=r, sigma=sigma, M=100, N=100, is_call=True)\n",
    "V_grid, S_grid = solver.solve()\n",
    "pde_time = time.time() - start\n",
    "\n",
    "# Interpolate the price at S\n",
    "S_idx = (np.abs(S_grid - S0)).argmin()\n",
    "pde_price = V_grid[S_idx]\n",
    "\n",
    "print(f\"PDE Price: {pde_price:.4f} (Time: {pde_time:.6f} sec)\")"
   ]
  },
  {
   "cell_type": "code",
   "execution_count": null,
   "id": "a0f213ab-2c76-425e-9e27-6cf59e90c9ab",
   "metadata": {},
   "outputs": [],
   "source": []
  }
 ],
 "metadata": {
  "kernelspec": {
   "display_name": "Python 3 (ipykernel)",
   "language": "python",
   "name": "python3"
  },
  "language_info": {
   "codemirror_mode": {
    "name": "ipython",
    "version": 3
   },
   "file_extension": ".py",
   "mimetype": "text/x-python",
   "name": "python",
   "nbconvert_exporter": "python",
   "pygments_lexer": "ipython3",
   "version": "3.10.18"
  }
 },
 "nbformat": 4,
 "nbformat_minor": 5
}
