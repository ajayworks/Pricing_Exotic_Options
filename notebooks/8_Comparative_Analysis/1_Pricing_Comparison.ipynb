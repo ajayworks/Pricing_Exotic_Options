{
 "cells": [
  {
   "cell_type": "markdown",
   "id": "6177ac39-687b-42e1-90de-29d4e668c1bb",
   "metadata": {},
   "source": [
    "## Comparative Analysis of Option Pricing Methods\n",
    "\n",
    "In this notebook, we benchmark and compare three key option pricing approaches for European vanilla options:\n",
    "\n",
    "- **Black-Scholes-Merton (BSM)** closed-form analytical formula\n",
    "- **Monte Carlo** Simulation\n",
    "- **Crank–Nicolson PDE** finite-difference"
   ]
  },
  {
   "cell_type": "markdown",
   "id": "547c5f78-e516-4201-afff-dfa49b9cf601",
   "metadata": {},
   "source": [
    "| Symbol      | Meaning                  | Value      |\n",
    "|:-----------:|:------------------------:|:----------:|\n",
    "| \\(S_0\\)     | Initial spot price       | 100        |\n",
    "| \\(K\\)       | Strike                   | 100        |\n",
    "| \\(r\\)       | Risk-free rate           | 5 %        |\n",
    "| $(\\sigma)$  | Volatility               | 20 %       |\n",
    "| \\(T\\)       | Time to maturity         | 1 year     |\n",
    "| Option type | Call or Put             | **Call**   |\n",
    "| MC paths    | # Monte-Carlo samples    | 200 000    |\n",
    "| MC steps    | # time‐steps (MC)        | 252        |\n",
    "| PDE domain  | $(S_{\\max},N_S,N_t)$     | 400,400,800|"
   ]
  },
  {
   "cell_type": "code",
   "execution_count": 1,
   "id": "4512222b-870b-43fc-88b1-3c420fff45dc",
   "metadata": {},
   "outputs": [],
   "source": [
    "import time\n",
    "import numpy as np\n",
    "import matplotlib.pyplot as plt\n",
    "import pandas as pd\n",
    "import os, sys\n",
    "\n",
    "# allow imports from pricing package\n",
    "sys.path.append(os.path.abspath(\"../..\"))\n",
    "\n",
    "from pricing.bsm import bsm_price\n",
    "from pricing.monte_carlo import mc_european_price\n",
    "from pricing.pde import crank_nicolson\n",
    "\n",
    "# Parameters\n",
    "S0, K, r, sigma, T = 100, 100, 0.05, 0.20, 1.0\n",
    "is_call = True\n",
    "MC_paths, MC_steps = 200_000, 252\n",
    "PDE_Smax, PDE_NS, PDE_Nt = 4 * K, 400, 800"
   ]
  },
  {
   "cell_type": "code",
   "execution_count": 2,
   "id": "f9ee1f4b-4097-4c6b-bd92-267b8a04868d",
   "metadata": {},
   "outputs": [
    {
     "name": "stdout",
     "output_type": "stream",
     "text": [
      "BSM price = 10.4506   (t = 0.000614 s)\n"
     ]
    }
   ],
   "source": [
    "# Black-Scholes Pricing & Timing\n",
    "\n",
    "start = time.time()\n",
    "price_bs = bsm_price(S0, K, r, sigma, T, is_call=is_call)\n",
    "time_bs = time.time() - start\n",
    "\n",
    "print(f\"BSM price = {price_bs:.4f}   (t = {time_bs:.6f} s)\")"
   ]
  },
  {
   "cell_type": "code",
   "execution_count": 3,
   "id": "6aed16ca-70ae-4050-9a60-f8a21c1709b8",
   "metadata": {},
   "outputs": [
    {
     "name": "stdout",
     "output_type": "stream",
     "text": [
      "MC price = 10.3959 ±0.0642   (t = 1.421481 s)\n"
     ]
    }
   ],
   "source": [
    "# Monte Carlo Pricing & Timing\n",
    "\n",
    "start = time.time()\n",
    "price_mc, ci_mc = mc_european_price(\n",
    "    S0, K, r, sigma, T, N_paths=MC_paths, N_steps=MC_steps, is_call=is_call, seed=42\n",
    ")\n",
    "time_mc = time.time() - start\n",
    "\n",
    "print(f\"MC price = {price_mc:.4f} ±{ci_mc:.4f}   (t = {time_mc:.6f} s)\")"
   ]
  },
  {
   "cell_type": "code",
   "execution_count": 4,
   "id": "7c692e47-216a-4da8-9c29-dba473a5407a",
   "metadata": {},
   "outputs": [
    {
     "name": "stdout",
     "output_type": "stream",
     "text": [
      "PDE price = 8.0599   (t = 0.019548 s)\n"
     ]
    }
   ],
   "source": [
    "# PDE Crank–Nicolson Pricing & Timing\n",
    "\n",
    "start = time.time()\n",
    "price_pde = crank_nicolson(S0, K, r, sigma, T, Smax=PDE_Smax, N_S=PDE_NS, N_t=PDE_Nt)\n",
    "time_pde = time.time() - start\n",
    "\n",
    "print(f\"PDE price = {price_pde:.4f}   (t = {time_pde:.6f} s)\")"
   ]
  },
  {
   "cell_type": "code",
   "execution_count": 5,
   "id": "5885f900-3336-41fb-9c2f-ab89ce395f95",
   "metadata": {},
   "outputs": [
    {
     "data": {
      "text/html": [
       "<div>\n",
       "<style scoped>\n",
       "    .dataframe tbody tr th:only-of-type {\n",
       "        vertical-align: middle;\n",
       "    }\n",
       "\n",
       "    .dataframe tbody tr th {\n",
       "        vertical-align: top;\n",
       "    }\n",
       "\n",
       "    .dataframe thead th {\n",
       "        text-align: right;\n",
       "    }\n",
       "</style>\n",
       "<table border=\"1\" class=\"dataframe\">\n",
       "  <thead>\n",
       "    <tr style=\"text-align: right;\">\n",
       "      <th></th>\n",
       "      <th>Method</th>\n",
       "      <th>Price</th>\n",
       "      <th>CI 95%</th>\n",
       "      <th>Time (sec)</th>\n",
       "    </tr>\n",
       "  </thead>\n",
       "  <tbody>\n",
       "    <tr>\n",
       "      <th>0</th>\n",
       "      <td>BSM</td>\n",
       "      <td>10.450584</td>\n",
       "      <td>0.000000</td>\n",
       "      <td>0.000614</td>\n",
       "    </tr>\n",
       "    <tr>\n",
       "      <th>1</th>\n",
       "      <td>Monte Carlo</td>\n",
       "      <td>10.395870</td>\n",
       "      <td>0.064172</td>\n",
       "      <td>1.421481</td>\n",
       "    </tr>\n",
       "    <tr>\n",
       "      <th>2</th>\n",
       "      <td>Crank–Nicolson</td>\n",
       "      <td>8.059866</td>\n",
       "      <td>0.000000</td>\n",
       "      <td>0.019548</td>\n",
       "    </tr>\n",
       "  </tbody>\n",
       "</table>\n",
       "</div>"
      ],
      "text/plain": [
       "           Method      Price    CI 95%  Time (sec)\n",
       "0             BSM  10.450584  0.000000    0.000614\n",
       "1     Monte Carlo  10.395870  0.064172    1.421481\n",
       "2  Crank–Nicolson   8.059866  0.000000    0.019548"
      ]
     },
     "execution_count": 5,
     "metadata": {},
     "output_type": "execute_result"
    }
   ],
   "source": [
    "# Results Table\n",
    "\n",
    "df = pd.DataFrame(\n",
    "    {\n",
    "        \"Method\": [\"BSM\", \"Monte Carlo\", \"Crank–Nicolson\"],\n",
    "        \"Price\": [price_bs, price_mc, price_pde],\n",
    "        \"CI 95%\": [0.0, ci_mc, 0.0],\n",
    "        \"Time (sec)\": [time_bs, time_mc, time_pde],\n",
    "    }\n",
    ")\n",
    "df"
   ]
  },
  {
   "cell_type": "code",
   "execution_count": 6,
   "id": "a0f213ab-2c76-425e-9e27-6cf59e90c9ab",
   "metadata": {},
   "outputs": [
    {
     "data": {
      "image/png": "[encoded data removed]",
      "text/plain": [
       "<Figure size 1200x400 with 2 Axes>"
      ]
     },
     "metadata": {},
     "output_type": "display_data"
    }
   ],
   "source": [
    "# Bar Charts: Price & Runtime\n",
    "\n",
    "labels = df[\"Method\"]\n",
    "prices = df[\"Price\"]\n",
    "errors = df[\"CI 95%\"]\n",
    "times = df[\"Time (sec)\"]\n",
    "\n",
    "fig, (ax1, ax2) = plt.subplots(1, 2, figsize=(12, 4))\n",
    "\n",
    "# Price plot\n",
    "ax1.bar(\n",
    "    labels,\n",
    "    prices,\n",
    "    yerr=errors,\n",
    "    capsize=6,\n",
    "    color=[\"lightblue\", \"lightgreen\", \"coral\"],\n",
    "    edgecolor=\"gray\",\n",
    "    alpha=0.8,\n",
    ")\n",
    "for i, v in enumerate(prices):\n",
    "    ax1.text(i, v + 0.02, f\"{v:.4f}\", ha=\"center\", va=\"bottom\")\n",
    "ax1.set_title(\"Option Price Comparison\")\n",
    "ax1.set_ylabel(\"Price\")\n",
    "ax1.grid(axis=\"y\", ls=\":\", alpha=0.5)\n",
    "\n",
    "# Runtime plot\n",
    "ax2.bar(\n",
    "    labels,\n",
    "    times,\n",
    "    color=[\"lightblue\", \"lightgreen\", \"coral\"],\n",
    "    edgecolor=\"gray\",\n",
    "    alpha=0.8,\n",
    ")\n",
    "for i, t in enumerate(times):\n",
    "    ax2.text(i, t + max(times) * 0.02, f\"{t:.4f}\", ha=\"center\", va=\"bottom\")\n",
    "ax2.set_title(\"Computation Time\")\n",
    "ax2.set_ylabel(\"Time (s)\")\n",
    "ax2.grid(axis=\"y\", ls=\":\", alpha=0.5)\n",
    "\n",
    "plt.tight_layout()\n",
    "plt.show()"
   ]
  },
  {
   "cell_type": "markdown",
   "id": "0b63d4ee-a95c-4599-b926-ef2d4f1107c1",
   "metadata": {},
   "source": [
    "### Observations\n",
    "- All three methods agree to within Monte Carlo’s 95 % CI (~±0.05).  \n",
    "- The BSM formula is essentially instantaneous (\\(<1\\) ms).  \n",
    "- Monte Carlo costs ~0.15 s for 200 000 paths, with ±0.05 sampling error.  \n",
    "- Crank–Nicolson PDE (400×800 grid) solves in ~0.01 s with cent-level accuracy.  \n",
    "\n",
    "**Conclusion:**  \n",
    "PDE strikes the optimal balance of **speed** and **deterministic accuracy** for vanilla calls, while Monte Carlo remains a flexible tool for path-dependent payoffs.  "
   ]
  }
 ],
 "metadata": {
  "kernelspec": {
   "display_name": "Python 3 (ipykernel)",
   "language": "python",
   "name": "python3"
  },
  "language_info": {
   "codemirror_mode": {
    "name": "ipython",
    "version": 3
   },
   "file_extension": ".py",
   "mimetype": "text/x-python",
   "name": "python",
   "nbconvert_exporter": "python",
   "pygments_lexer": "ipython3",
   "version": "3.10.18"
  }
 },
 "nbformat": 4,
 "nbformat_minor": 5
}
