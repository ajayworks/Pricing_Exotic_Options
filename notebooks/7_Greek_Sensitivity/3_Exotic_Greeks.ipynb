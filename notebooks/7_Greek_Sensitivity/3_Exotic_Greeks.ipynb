{
 "cells": [
  {
   "cell_type": "markdown",
   "id": "37ae8cae",
   "metadata": {},
   "source": [
    "# Exotic Greeks: Arithmetic Asian & Barrier Options\n",
    "Compute **Delta** and **Gamma** using central finite differences:\n",
    "1. **Arithmetic Asian Call** (via Monte Carlo)\n",
    "2. **Down-and-Out Barrier Call** (via Monte Carlo)\n",
    "\n",
    "| Symbol         | Meaning                             | Value   |\n",
    "|:--------------:|:-----------------------------------:|:-------:|\n",
    "| $S_0$          | Initial spot price                  | **100** |\n",
    "| $K$            | Strike price                        | 100     |\n",
    "| $r$            | Risk-free rate                      | 5 %     |\n",
    "| $\\sigma$      | Volatility (annual)                 | 20 %    |\n",
    "| $T$            | Time to maturity (years)            | 1.0     |\n",
    "| Monte Carlo    | Sample paths                        | 200,000 |\n",
    "| Steps per Path | For barrier detection (M)           | 100     |\n",
    "| Bump size $h$  | Finite difference increment         | 0.01    |\n"
   ]
  },
  {
   "cell_type": "code",
   "execution_count": 1,
   "id": "833940e7",
   "metadata": {},
   "outputs": [],
   "source": [
    "import os, sys\n",
    "import numpy as np\n",
    "import pandas as pd\n",
    "import matplotlib.pyplot as plt\n",
    "\n",
    "# allow imports from pricing/ at repo root\n",
    "sys.path.append(os.path.abspath(\"../..\"))\n",
    "from pricing.monte_carlo import mc_arithmetic_asian_price\n",
    "\n",
    "# MC parameters\n",
    "S0, K, r, sigma, T = 100, 100, 0.05, 0.20, 1.0\n",
    "N_paths = 200_000\n",
    "M_steps = 100  # for barrier MC\n",
    "h = 1e-2  # bump size\n",
    "seed = 42"
   ]
  },
  {
   "cell_type": "code",
   "execution_count": 2,
   "id": "ecdff8ac",
   "metadata": {},
   "outputs": [],
   "source": [
    "def mc_barrier_down_out_call(S0, K, r, sigma, T, B, N_paths, M, seed=None):\n",
    "    \"\"\"\n",
    "    Monte Carlo down-and-out barrier call price.\n",
    "    \"\"\"\n",
    "    if seed is not None:\n",
    "        np.random.seed(seed)\n",
    "    dt = T / M\n",
    "    payoffs = []\n",
    "    for _ in range(N_paths):\n",
    "        increments = (r - 0.5 * sigma**2) * dt + sigma * np.sqrt(\n",
    "            dt\n",
    "        ) * np.random.randn(M)\n",
    "        S_path = S0 * np.exp(np.cumsum(increments))\n",
    "        if np.min(S_path) <= B:\n",
    "            payoffs.append(0.0)\n",
    "        else:\n",
    "            payoffs.append(max(S_path[-1] - K, 0.0))\n",
    "    discounted = np.exp(-r * T) * np.array(payoffs)\n",
    "    price = discounted.mean()\n",
    "    stderr = discounted.std(ddof=1) / np.sqrt(N_paths)\n",
    "    ci95 = 1.96 * stderr\n",
    "    return price, ci95"
   ]
  },
  {
   "cell_type": "code",
   "execution_count": 3,
   "id": "f89efa2e",
   "metadata": {},
   "outputs": [],
   "source": [
    "def compute_greeks(price_func, S0, bump, **kwargs):\n",
    "    base, _ = price_func(S0, **kwargs)\n",
    "    up, _ = price_func(S0 + bump, **kwargs)\n",
    "    down, _ = price_func(S0 - bump, **kwargs)\n",
    "    delta = (up - down) / (2 * bump)\n",
    "    gamma = (up - 2 * base + down) / (bump**2)\n",
    "    return delta, gamma\n",
    "\n",
    "\n",
    "# Price functions wrappers\n",
    "\n",
    "\n",
    "def price_asian(S0, **kwargs):\n",
    "    return mc_arithmetic_asian_price(S0, **kwargs)\n",
    "\n",
    "\n",
    "def price_barrier(S0, **kwargs):\n",
    "    return mc_barrier_down_out_call(S0, B=90, **kwargs)"
   ]
  },
  {
   "cell_type": "code",
   "execution_count": 4,
   "id": "98dfc8a9",
   "metadata": {},
   "outputs": [
    {
     "data": {
      "text/html": [
       "<div>\n",
       "<style scoped>\n",
       "    .dataframe tbody tr th:only-of-type {\n",
       "        vertical-align: middle;\n",
       "    }\n",
       "\n",
       "    .dataframe tbody tr th {\n",
       "        vertical-align: top;\n",
       "    }\n",
       "\n",
       "    .dataframe thead th {\n",
       "        text-align: right;\n",
       "    }\n",
       "</style>\n",
       "<table border=\"1\" class=\"dataframe\">\n",
       "  <thead>\n",
       "    <tr style=\"text-align: right;\">\n",
       "      <th></th>\n",
       "      <th>Option</th>\n",
       "      <th>Delta</th>\n",
       "      <th>Gamma</th>\n",
       "    </tr>\n",
       "  </thead>\n",
       "  <tbody>\n",
       "    <tr>\n",
       "      <th>0</th>\n",
       "      <td>Arithmetic Asian</td>\n",
       "      <td>0.588031</td>\n",
       "      <td>0.029361</td>\n",
       "    </tr>\n",
       "    <tr>\n",
       "      <th>1</th>\n",
       "      <td>Down-and-Out Barrier</td>\n",
       "      <td>0.801946</td>\n",
       "      <td>4.380016</td>\n",
       "    </tr>\n",
       "  </tbody>\n",
       "</table>\n",
       "</div>"
      ],
      "text/plain": [
       "                 Option     Delta     Gamma\n",
       "0      Arithmetic Asian  0.588031  0.029361\n",
       "1  Down-and-Out Barrier  0.801946  4.380016"
      ]
     },
     "execution_count": 4,
     "metadata": {},
     "output_type": "execute_result"
    }
   ],
   "source": [
    "# Compute Greeks\n",
    "asian_delta, asian_gamma = compute_greeks(\n",
    "    price_asian,\n",
    "    S0,\n",
    "    h,\n",
    "    K=K,\n",
    "    r=r,\n",
    "    sigma=sigma,\n",
    "    T=T,\n",
    "    N_paths=N_paths,\n",
    "    N_steps=252,\n",
    "    seed=seed,\n",
    "    is_call=True,\n",
    ")\n",
    "bar_delta, bar_gamma = compute_greeks(\n",
    "    price_barrier,\n",
    "    S0,\n",
    "    h,\n",
    "    K=K,\n",
    "    r=r,\n",
    "    sigma=sigma,\n",
    "    T=T,\n",
    "    N_paths=N_paths,\n",
    "    M=M_steps,\n",
    "    seed=seed,\n",
    ")\n",
    "\n",
    "df = pd.DataFrame(\n",
    "    [\n",
    "        {\"Option\": \"Arithmetic Asian\", \"Delta\": asian_delta, \"Gamma\": asian_gamma},\n",
    "        {\"Option\": \"Down-and-Out Barrier\", \"Delta\": bar_delta, \"Gamma\": bar_gamma},\n",
    "    ]\n",
    ")\n",
    "df"
   ]
  },
  {
   "cell_type": "code",
   "execution_count": 5,
   "id": "4f73d5d3",
   "metadata": {},
   "outputs": [
    {
     "data": {
      "image/png": "[encoded data removed]",
      "text/plain": [
       "<Figure size 1000x400 with 2 Axes>"
      ]
     },
     "metadata": {},
     "output_type": "display_data"
    }
   ],
   "source": [
    "fig, axes = plt.subplots(1, 2, figsize=(10, 4))\n",
    "df.plot(\n",
    "    x=\"Option\",\n",
    "    y=\"Delta\",\n",
    "    kind=\"bar\",\n",
    "    ax=axes[0],\n",
    "    legend=False,\n",
    "    color=[\"#1f77b4\", \"#ff7f0e\"],\n",
    ")\n",
    "axes[0].set_title(\"Delta\")\n",
    "axes[0].set_ylabel(\"Delta\")\n",
    "\n",
    "df.plot(\n",
    "    x=\"Option\",\n",
    "    y=\"Gamma\",\n",
    "    kind=\"bar\",\n",
    "    ax=axes[1],\n",
    "    legend=False,\n",
    "    color=[\"#1f77b4\", \"#ff7f0e\"],\n",
    ")\n",
    "axes[1].set_title(\"Gamma\")\n",
    "axes[1].set_ylabel(\"Gamma\")\n",
    "\n",
    "plt.tight_layout()\n",
    "\n",
    "# save the plot into plots folder\n",
    "plt.savefig(\"../../plots/greeks_asian_barrier.png\", dpi=300)\n",
    "\n",
    "plt.show()"
   ]
  },
  {
   "cell_type": "markdown",
   "id": "cc025192",
   "metadata": {},
   "source": [
    "### Observations\n",
    "- Asian call delta is lower than for vanilla, due to averaging.\n",
    "- Barrier call delta is reduced compared to vanilla, reflecting knockout risk.\n",
    "- Gamma curvature differs: barrier gamma is smoother."
   ]
  }
 ],
 "metadata": {
  "kernelspec": {
   "display_name": "Python 3 (ipykernel)",
   "language": "python",
   "name": "python3"
  },
  "language_info": {
   "codemirror_mode": {
    "name": "ipython",
    "version": 3
   },
   "file_extension": ".py",
   "mimetype": "text/x-python",
   "name": "python",
   "nbconvert_exporter": "python",
   "pygments_lexer": "ipython3",
   "version": "3.10.18"
  }
 },
 "nbformat": 4,
 "nbformat_minor": 5
}
