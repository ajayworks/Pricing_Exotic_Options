{
 "cells": [
  {
   "cell_type": "code",
   "execution_count": 11,
   "id": "37939195-6a3d-4549-993f-aee999488710",
   "metadata": {},
   "outputs": [],
   "source": [
    "import numpy as np\n",
    "from scipy.stats import norm\n",
    "import matplotlib.pyplot as plt"
   ]
  },
  {
   "cell_type": "code",
   "execution_count": 16,
   "id": "e6d656f5-3c8c-4d68-b658-1a1ba88911bc",
   "metadata": {},
   "outputs": [],
   "source": [
    "def black_scholes_price(S, K, T, r, sigma, option_type):\n",
    "    d1 = (np.log(S/K) + (r + 0.5 * sigma**2)*T) / (sigma * np.sqrt(T))\n",
    "    d2 = d1 - (sigma * np.sqrt(T))\n",
    "\n",
    "    if option_type.lower() == 'call':\n",
    "        return S * norm.cdf(d1) - K * np.exp(-r*T) * norm.cdf(d2)\n",
    "\n",
    "    elif option_type.lower() =='put':\n",
    "        return K * np.exp(-r*T) * norm.cdf(-d2) - S * norm.cdf(-d1)\n",
    "\n",
    "    else:\n",
    "        raise ValueError(\"option_type must be 'call' or 'put'\")"
   ]
  },
  {
   "cell_type": "code",
   "execution_count": 17,
   "id": "68de8546-93ca-4975-999a-c36bc2e9e37f",
   "metadata": {},
   "outputs": [
    {
     "name": "stdout",
     "output_type": "stream",
     "text": [
      "Call Price: 10.4506\n",
      "Put Price:  5.5735\n"
     ]
    }
   ],
   "source": [
    "S = 100     # Current stock price\n",
    "K = 100     # Strike price\n",
    "T = 1       # Time to maturity (1 year)\n",
    "r = 0.05    # Risk-free rate\n",
    "sigma = 0.2 # Volatility\n",
    "\n",
    "price_call = black_scholes_price(S, K, T, r, sigma, option_type='call')\n",
    "price_put  = black_scholes_price(S, K, T, r, sigma, option_type='put')\n",
    "\n",
    "print(f\"Call Price: {price_call:.4f}\")\n",
    "print(f\"Put Price:  {price_put:.4f}\")"
   ]
  },
  {
   "cell_type": "code",
   "execution_count": null,
   "id": "16ec0ac8-69da-4934-8fc1-0664ea790862",
   "metadata": {},
   "outputs": [],
   "source": []
  }
 ],
 "metadata": {
  "kernelspec": {
   "display_name": "Python 3 (ipykernel)",
   "language": "python",
   "name": "python3"
  },
  "language_info": {
   "codemirror_mode": {
    "name": "ipython",
    "version": 3
   },
   "file_extension": ".py",
   "mimetype": "text/x-python",
   "name": "python",
   "nbconvert_exporter": "python",
   "pygments_lexer": "ipython3",
   "version": "3.10.18"
  }
 },
 "nbformat": 4,
 "nbformat_minor": 5
}
