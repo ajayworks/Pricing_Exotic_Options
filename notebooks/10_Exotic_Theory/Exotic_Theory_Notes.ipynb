{
 "cells": [
  {
   "cell_type": "markdown",
   "id": "deb371de-a2df-4c63-b5c6-7d4d7908589b",
   "metadata": {},
   "source": [
    "# 📘 Exotic Option Theory – Asian and Barrier Options"
   ]
  },
  {
   "cell_type": "markdown",
   "id": "578ca5ea-63e9-4776-acb4-703ad04b41e0",
   "metadata": {},
   "source": [
    "##  Objectives\n",
    "\n",
    "- Understand the mathematical formulation of Asian and barrier options\n",
    "- Explore path integral formulation for Asian options\n",
    "- Discuss sources of bias, variance, and discretization errors in exotic option pricing\n",
    "---"
   ]
  },
  {
   "cell_type": "markdown",
   "id": "6022a13d-9298-49d4-8207-26480468a165",
   "metadata": {},
   "source": [
    "##  Asian Option Theory\n",
    "\n",
    "Asian options depend on the **average price** of the underlying over time, making them path-dependent.\n",
    "\n",
    "There are two types:\n",
    "- **Average Price**: payoff based on average of prices.\n",
    "- **Average Strike**: strike is the average.\n",
    "\n",
    "###  Payoff (Average Price Asian Call):\n",
    "\n",
    "$\n",
    "C_{\\text{Asian}} = \\max\\left( \\frac{1}{n} \\sum_{i=1}^n S_{t_i} - K, 0 \\right)\n",
    "$\n",
    "\n",
    "Due to the averaging, Asian options exhibit **lower volatility** than vanilla options.\n",
    "\n",
    "###  Limitation of Black-Scholes:\n",
    "\n",
    "The arithmetic average of lognormal prices is **not lognormal** ⇒ no closed-form like vanilla options.\n",
    "\n",
    "###  PDE Formulation:\n",
    "\n",
    "Let:\n",
    "\n",
    "- $( A_t = \\frac{1}{t} \\int_0^t S_u \\, du )$ (running average)\n",
    "\n",
    "Then the PDE becomes:\n",
    "\n",
    "$\n",
    "\\frac{\\partial V}{\\partial t} + rS \\frac{\\partial V}{\\partial S} + \\frac{1}{2} \\sigma^2 S^2 \\frac{\\partial^2 V}{\\partial S^2} + \\left( \\frac{A - A_t}{t} \\right) \\frac{\\partial V}{\\partial A} = rV\n",
    "$\n",
    "\n",
    "---"
   ]
  },
  {
   "cell_type": "markdown",
   "id": "8e09ac77-3e04-447d-b3e4-749845760fa9",
   "metadata": {},
   "source": [
    "##  Barrier Option Theory\n",
    "\n",
    "Barrier options activate or deactivate depending on whether the underlying crosses a set **barrier level**.\n",
    "\n",
    "###  Types:\n",
    "- **Knock-in**: Only becomes active if barrier is touched.\n",
    "- **Knock-out**: Expires worthless if barrier is touched.\n",
    "\n",
    "Example: Down-and-Out Call → becomes worthless if asset falls below barrier \\( B \\) anytime.\n",
    "\n",
    "###  Boundary Conditions:\n",
    "\n",
    "These are critical in PDE formulations.\n",
    "\n",
    "- For Down-and-Out Call:\n",
    "  $\n",
    "  V(S = B, t) = 0 \\quad \\text{(absorbing barrier)}\n",
    "  $\n",
    "- For Knock-In options:\n",
    "  More complex — requires tracking two regimes (activated/inactivated).\n",
    "\n",
    "These are solved using **finite difference methods** or **Monte Carlo with path tracking**.\n",
    "\n",
    "---"
   ]
  },
  {
   "cell_type": "markdown",
   "id": "75131abc-b8f5-45c6-8d69-ccfbafda1598",
   "metadata": {},
   "source": [
    "##  Path Integrals for Asian Options\n",
    "\n",
    "Asian option payoff depends on **integral over path**:\n",
    "\n",
    "$\n",
    "A_T = \\frac{1}{T} \\int_0^T S_t \\, dt\n",
    "$\n",
    "\n",
    "This makes it a **functional** of the stochastic process \\( S_t \\).\n",
    "\n",
    "We can express the expectation:\n",
    "\n",
    "$\n",
    "C_{\\text{Asian}} = e^{-rT} \\mathbb{E} \\left[ \\max\\left( A_T - K, 0 \\right) \\right]\n",
    "$\n",
    "\n",
    "### 🔍 Challenges:\n",
    "- Arithmetic average of lognormal distribution has no closed-form.\n",
    "- **Geometric average** allows analytical solution via lognormality.\n",
    "\n",
    "---"
   ]
  },
  {
   "cell_type": "markdown",
   "id": "8f6f6397-297f-46d6-bfab-937fd070c68f",
   "metadata": {},
   "source": [
    "##  Bias, Variance & Discretization Pitfalls\n",
    "\n",
    "###  Discretization Bias:\n",
    "\n",
    "Sampling at discrete time steps introduces bias in estimating the integral:\n",
    "\n",
    "$\n",
    "\\hat{A}_T = \\frac{1}{n} \\sum_{i=1}^n S_{t_i} \\neq \\frac{1}{T} \\int_0^T S_t \\, dt\n",
    "$\n",
    "\n",
    "This becomes negligible as $( n \\to \\infty )$, but increases runtime.\n",
    "\n",
    "---\n",
    "\n",
    "###  Variance & Monte Carlo:\n",
    "\n",
    "Monte Carlo estimation has high variance. We reduce it using:\n",
    "- **Antithetic Variates**\n",
    "- **Control Variates** (e.g., using vanilla option)\n",
    "- **Quasi-random sequences** (Sobol, Halton)\n",
    "\n",
    "---\n",
    "\n",
    "###  Error Trade-off:\n",
    "\n",
    "| Method           | Bias      | Variance   | Speed     |\n",
    "|------------------|-----------|------------|-----------|\n",
    "| PDE (FDM)        | Low       | None       | Fast      |\n",
    "| Monte Carlo      | Low-ish   | High       | Slower    |\n",
    "| Analytical (Geo) | None      | None       | Instant   |\n",
    "\n",
    "---"
   ]
  },
  {
   "cell_type": "markdown",
   "id": "595f0e42-c44d-4595-8e74-50be2c66a2aa",
   "metadata": {},
   "source": [
    "##  Summary\n",
    "\n",
    "- Exotic options require more advanced techniques due to path dependence.\n",
    "- Asian options involve time-averaging, while barrier options involve state-triggered conditions.\n",
    "- Closed-form solutions are rare; we rely on **Monte Carlo** and **PDE solvers**.\n",
    "- Numerical methods must balance accuracy, runtime, and stability."
   ]
  },
  {
   "cell_type": "code",
   "execution_count": null,
   "id": "2fd97708-672f-46cc-a854-1740876977b6",
   "metadata": {},
   "outputs": [],
   "source": []
  }
 ],
 "metadata": {
  "kernelspec": {
   "display_name": "Python 3 (ipykernel)",
   "language": "python",
   "name": "python3"
  },
  "language_info": {
   "codemirror_mode": {
    "name": "ipython",
    "version": 3
   },
   "file_extension": ".py",
   "mimetype": "text/x-python",
   "name": "python",
   "nbconvert_exporter": "python",
   "pygments_lexer": "ipython3",
   "version": "3.10.18"
  }
 },
 "nbformat": 4,
 "nbformat_minor": 5
}
