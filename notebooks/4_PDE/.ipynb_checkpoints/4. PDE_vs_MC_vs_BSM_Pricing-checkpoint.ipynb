{
 "cells": [
  {
   "cell_type": "markdown",
   "id": "0e828945-3ba4-4b57-a35b-dd02953f09aa",
   "metadata": {},
   "source": [
    "# PDE vs MC vs BSM – Vanilla European Option Pricing\n",
    "\n",
    "This notebook benchmarks European call option pricing using three numerical and analytical methods:\n",
    "\n",
    "- ✅ **Black-Scholes Closed Form** (Analytical)\n",
    "- ✅ **Monte Carlo Simulation** (Euler-Maruyama)\n",
    "- ✅ **Crank-Nicolson Finite Difference** (PDE)\n",
    "\n",
    "We use identical inputs and compare accuracy and stability of each technique."
   ]
  },
  {
   "cell_type": "code",
   "execution_count": 1,
   "id": "600d6759-e4b9-43c5-94ac-11cedf839b2d",
   "metadata": {},
   "outputs": [],
   "source": [
    "S0 = 100        # Spot price\n",
    "K = 100         # Strike price\n",
    "r = 0.05        # Risk-free rate\n",
    "sigma = 0.2     # Volatility\n",
    "T = 1.0         # Time to maturity\n",
    "\n",
    "option_type = \"call\""
   ]
  },
  {
   "cell_type": "code",
   "execution_count": 2,
   "id": "e5ad2121-87d9-4ba6-92ea-a4c895152b57",
   "metadata": {},
   "outputs": [
    {
     "name": "stdout",
     "output_type": "stream",
     "text": [
      "Black-Scholes Price: 10.4506\n"
     ]
    }
   ],
   "source": [
    "from scipy.stats import norm\n",
    "import numpy as np\n",
    "\n",
    "def bsm_price(S, K, r, sigma, T, option_type=\"call\"):\n",
    "    if T == 0:\n",
    "        return max(0, (S - K) if option_type == \"call\" else (K - S))\n",
    "    d1 = (np.log(S/K) + (r + 0.5*sigma**2)*T) / (sigma*np.sqrt(T))\n",
    "    d2 = d1 - sigma*np.sqrt(T)\n",
    "    if option_type == \"call\":\n",
    "        return S * norm.cdf(d1) - K * np.exp(-r*T) * norm.cdf(d2)\n",
    "    else:\n",
    "        return K * np.exp(-r*T) * norm.cdf(-d2) - S * norm.cdf(-d1)\n",
    "\n",
    "price_bs = bsm_price(S0, K, r, sigma, T, option_type)\n",
    "print(f\"Black-Scholes Price: {price_bs:.4f}\")"
   ]
  },
  {
   "cell_type": "code",
   "execution_count": 3,
   "id": "0a9df0b0-16fc-4a55-9a34-f5b0190fb855",
   "metadata": {},
   "outputs": [
    {
     "name": "stdout",
     "output_type": "stream",
     "text": [
      "Monte Carlo Price: 10.4231\n"
     ]
    }
   ],
   "source": [
    "def mc_price_european(S0, K, r, sigma, T, M=100_000, N=100, option_type=\"call\", seed=42):\n",
    "    np.random.seed(seed)\n",
    "    dt = T / N\n",
    "    S = np.zeros((M, N + 1))\n",
    "    S[:, 0] = S0\n",
    "    for t in range(1, N + 1):\n",
    "        Z = np.random.normal(size=M)\n",
    "        S[:, t] = S[:, t-1] * np.exp((r - 0.5*sigma**2)*dt + sigma*np.sqrt(dt)*Z)\n",
    "\n",
    "    ST = S[:, -1]\n",
    "    payoff = np.maximum(ST - K, 0) if option_type == \"call\" else np.maximum(K - ST, 0)\n",
    "    price = np.exp(-r * T) * np.mean(payoff)\n",
    "    return price\n",
    "\n",
    "price_mc = mc_price_european(S0, K, r, sigma, T)\n",
    "print(f\"Monte Carlo Price: {price_mc:.4f}\")"
   ]
  },
  {
   "cell_type": "code",
   "execution_count": 4,
   "id": "a754c2eb-5b5c-482d-b028-522ac2bdb21e",
   "metadata": {},
   "outputs": [
    {
     "name": "stdout",
     "output_type": "stream",
     "text": [
      "PDE Crank-Nicolson Price: 10.3537\n"
     ]
    }
   ],
   "source": [
    "def crank_nicolson(S0, K, r, sigma, T, Smax=200, M=100, N=100, option_type=\"call\"):\n",
    "    dt = T / N\n",
    "    dS = Smax / M\n",
    "    S = np.linspace(0, Smax, M+1)\n",
    "    V = np.maximum(S - K, 0) if option_type == \"call\" else np.maximum(K - S, 0)\n",
    "\n",
    "    alpha = 0.25 * dt * (sigma**2 * (np.arange(M+1)**2) - r * np.arange(M+1))\n",
    "    beta  = -dt * 0.5 * (sigma**2 * (np.arange(M+1)**2) + r)\n",
    "    gamma = 0.25 * dt * (sigma**2 * (np.arange(M+1)**2) + r * np.arange(M+1))\n",
    "\n",
    "    A = np.zeros((M-1, M-1))\n",
    "    B = np.zeros((M-1, M-1))\n",
    "    for i in range(1, M):\n",
    "        if i > 1:\n",
    "            A[i-1, i-2] = -alpha[i]\n",
    "            B[i-1, i-2] =  alpha[i]\n",
    "        A[i-1, i-1] = 1 - beta[i]\n",
    "        B[i-1, i-1] = 1 + beta[i]\n",
    "        if i < M-1:\n",
    "            A[i-1, i] = -gamma[i]\n",
    "            B[i-1, i] =  gamma[i]\n",
    "\n",
    "    from scipy.linalg import solve\n",
    "    for j in range(N):\n",
    "        V[1:M] = solve(A, B @ V[1:M])\n",
    "\n",
    "    return np.interp(S0, S, V)\n",
    "\n",
    "price_pde = crank_nicolson(S0, K, r, sigma, T)\n",
    "print(f\"PDE Crank-Nicolson Price: {price_pde:.4f}\")"
   ]
  },
  {
   "cell_type": "code",
   "execution_count": 5,
   "id": "b8983a3e-32be-4af1-86bb-24eeee21f08d",
   "metadata": {},
   "outputs": [
    {
     "data": {
      "image/png": "[encoded data removed]",
      "text/plain": [
       "<Figure size 500x400 with 1 Axes>"
      ]
     },
     "metadata": {},
     "output_type": "display_data"
    }
   ],
   "source": [
    "# --- Visual comparison of pricing methods -----------------------\n",
    "import matplotlib.pyplot as plt\n",
    "import numpy as np\n",
    "\n",
    "labels  = ['BSM', 'MC', 'PDE']\n",
    "values  = [price_bs, price_mc, price_pde]\n",
    "\n",
    "fig, ax = plt.subplots(figsize=(5,4))\n",
    "bars = ax.bar(labels, values,\n",
    "              capsize=6, color=['C0','C1','C2'],\n",
    "              edgecolor='black', linewidth=0.6)\n",
    "\n",
    "# annotate bars with value\n",
    "for bar, val in zip(bars, values):\n",
    "    ax.text(bar.get_x() + bar.get_width()/2, val + 0.05,\n",
    "            f'{val:.4f}', ha='center', va='bottom', fontsize=9)\n",
    "\n",
    "ax.set_ylabel('Call price')\n",
    "ax.set_title('BSM vs Monte-Carlo vs Crank–Nicolson')\n",
    "ax.grid(axis='y', alpha=0.3)\n",
    "plt.tight_layout()\n",
    "\n",
    "# save the plot into plots folder\n",
    "plt.savefig(\"../../plots/BSM_MC_CN_comparison.png\", dpi=300)\n",
    "\n",
    "plt.show()"
   ]
  },
  {
   "cell_type": "markdown",
   "id": "9c874514-f930-4a4b-b564-6ef3cb72a916",
   "metadata": {},
   "source": [
    "### Pricing Comparison Summary\n",
    "\n",
    "| Method            | Price     |\n",
    "|-------------------|-----------|\n",
    "| Black-Scholes     |  10.4506  |\n",
    "| Monte Carlo       |  10.4231  |\n",
    "| Crank-Nicolson PDE|  10.3537  |     \n",
    "\n",
    "This confirms the **numerical stability and accuracy** of the PDE and MC methods when benchmarked against analytical BSM pricing.\n",
    "\n",
    "Discrepancies can be attributed to:\n",
    "- Time/space grid size (PDE)\n",
    "- Number of paths (MC)"
   ]
  }
 ],
 "metadata": {
  "kernelspec": {
   "display_name": "Python 3 (ipykernel)",
   "language": "python",
   "name": "python3"
  },
  "language_info": {
   "codemirror_mode": {
    "name": "ipython",
    "version": 3
   },
   "file_extension": ".py",
   "mimetype": "text/x-python",
   "name": "python",
   "nbconvert_exporter": "python",
   "pygments_lexer": "ipython3",
   "version": "3.10.18"
  }
 },
 "nbformat": 4,
 "nbformat_minor": 5
}
